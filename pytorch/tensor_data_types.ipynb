{
 "cells": [
  {
   "cell_type": "code",
   "execution_count": 2,
   "id": "ffc8c53f",
   "metadata": {},
   "outputs": [],
   "source": [
    "import torch"
   ]
  },
  {
   "cell_type": "code",
   "execution_count": 3,
   "id": "f5b23aea",
   "metadata": {},
   "outputs": [
    {
     "name": "stdout",
     "output_type": "stream",
     "text": [
      "torch.float32\n"
     ]
    }
   ],
   "source": [
    "default_tensor=torch.tensor([1.5,2.5,3.5])\n",
    "print(default_tensor.dtype)"
   ]
  },
  {
   "cell_type": "code",
   "execution_count": 4,
   "id": "23941a99",
   "metadata": {},
   "outputs": [
    {
     "name": "stdout",
     "output_type": "stream",
     "text": [
      "torch.float64\n"
     ]
    }
   ],
   "source": [
    "float_tensor=torch.tensor([1.5,2.5,3.5],dtype=torch.float64)\n",
    "print(float_tensor.dtype)"
   ]
  },
  {
   "cell_type": "code",
   "execution_count": 5,
   "id": "de7d30ba",
   "metadata": {},
   "outputs": [
    {
     "name": "stdout",
     "output_type": "stream",
     "text": [
      "torch.int32\n",
      "tensor([1, 2, 3], dtype=torch.int32)\n"
     ]
    }
   ],
   "source": [
    "int_tensor=torch.tensor([1.5,2.5,3.5],dtype=torch.int32)\n",
    "print(int_tensor.dtype)\n",
    "print(int_tensor)"
   ]
  },
  {
   "cell_type": "code",
   "execution_count": 6,
   "id": "af1e1703",
   "metadata": {},
   "outputs": [
    {
     "name": "stdout",
     "output_type": "stream",
     "text": [
      "torch.int64\n",
      "tensor([1, 2, 3])\n"
     ]
    }
   ],
   "source": [
    "int_tensor=torch.tensor([1,2,3])\n",
    "print(int_tensor.dtype)\n",
    "print(int_tensor)"
   ]
  },
  {
   "cell_type": "code",
   "execution_count": 8,
   "id": "9cd4bca5",
   "metadata": {},
   "outputs": [
    {
     "name": "stdout",
     "output_type": "stream",
     "text": [
      "torch.bool\n",
      "tensor([ True, False,  True])\n"
     ]
    }
   ],
   "source": [
    "bool_tensor=torch.tensor([True,False,True],dtype=torch.bool)\n",
    "print(bool_tensor.dtype)\n",
    "print(bool_tensor)"
   ]
  },
  {
   "cell_type": "code",
   "execution_count": 10,
   "id": "245f25f0",
   "metadata": {},
   "outputs": [
    {
     "name": "stdout",
     "output_type": "stream",
     "text": [
      "torch.float32\n",
      "tensor([1.5000, 2.5000, 3.5000])\n",
      "torch.int64\n",
      "tensor([1, 2, 3])\n",
      "torch.bool\n",
      "tensor([False,  True,  True, False])\n"
     ]
    }
   ],
   "source": [
    "float_tensor=torch.tensor([1.5,2.5,3.5])\n",
    "print(float_tensor.dtype)\n",
    "print(float_tensor)\n",
    "\n",
    "int_tensor=float_tensor.to(torch.int64)\n",
    "print(int_tensor.dtype)\n",
    "print(int_tensor)\n",
    "\n",
    "int_tensor=torch.tensor([0,1,2,0])\n",
    "bool_tensor=int_tensor.to(torch.bool)\n",
    "print(bool_tensor.dtype)\n",
    "print(bool_tensor)\n"
   ]
  },
  {
   "cell_type": "markdown",
   "id": "ad0d8f52",
   "metadata": {},
   "source": [
    "## imapct of data type on memory"
   ]
  },
  {
   "cell_type": "code",
   "execution_count": 12,
   "id": "d68d9ea8",
   "metadata": {},
   "outputs": [
    {
     "name": "stdout",
     "output_type": "stream",
     "text": [
      "Memory used by float32 tensor:  4000\n",
      "Memory used by float64 tensor:  8000\n"
     ]
    }
   ],
   "source": [
    "float32_tensor=torch.ones(1000,dtype=torch.float32)\n",
    "float64_tensor=torch.ones(1000,dtype=torch.float64)\n",
    "# tensor.element_size()\n",
    "# element_size --> gives you the size of one element in bytes\n",
    "#nelement--> gives the totlal number of elements in the tensor\n",
    "\n",
    "print(\"Memory used by float32 tensor: \",float32_tensor.element_size()*float32_tensor.nelement())\n",
    "print(\"Memory used by float64 tensor: \",float64_tensor.element_size()*float64_tensor.nelement())"
   ]
  },
  {
   "cell_type": "code",
   "execution_count": null,
   "id": "2716bfde",
   "metadata": {},
   "outputs": [],
   "source": [
    "# float32--> default for most NN models\n",
    "# float64--> high precision computation\n",
    "# int32--> general purpose integer\n",
    "# int64--> tensor indices\n",
    "# int8,int16-->reduce memory usage\n",
    "# bool--> mask and logical operation\n",
    "# float16--> half precision of your default floating type,reduce memory usage\n",
    "# complex64--> advanced computation"
   ]
  }
 ],
 "metadata": {
  "kernelspec": {
   "display_name": "pytorch",
   "language": "python",
   "name": "python3"
  },
  "language_info": {
   "codemirror_mode": {
    "name": "ipython",
    "version": 3
   },
   "file_extension": ".py",
   "mimetype": "text/x-python",
   "name": "python",
   "nbconvert_exporter": "python",
   "pygments_lexer": "ipython3",
   "version": "3.13.5"
  }
 },
 "nbformat": 4,
 "nbformat_minor": 5
}
