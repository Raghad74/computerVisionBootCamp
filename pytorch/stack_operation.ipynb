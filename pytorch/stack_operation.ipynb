{
 "cells": [
  {
   "cell_type": "code",
   "execution_count": 1,
   "id": "7c2a3349",
   "metadata": {},
   "outputs": [],
   "source": [
    "import torch"
   ]
  },
  {
   "cell_type": "code",
   "execution_count": 2,
   "id": "be3ceea2",
   "metadata": {},
   "outputs": [
    {
     "name": "stdout",
     "output_type": "stream",
     "text": [
      "1\n",
      "torch.Size([3])\n"
     ]
    }
   ],
   "source": [
    "tensor1=torch.tensor([1,2,3])\n",
    "tensor2=torch.tensor([4,5,6])\n",
    "print(tensor1.ndim)\n",
    "print(tensor1.size())"
   ]
  },
  {
   "cell_type": "code",
   "execution_count": 3,
   "id": "d99ff1b0",
   "metadata": {},
   "outputs": [
    {
     "name": "stdout",
     "output_type": "stream",
     "text": [
      "shape:  torch.Size([2, 3])\n",
      "tensor([[1, 2, 3],\n",
      "        [4, 5, 6]])\n",
      "shape:  torch.Size([3, 2])\n",
      "tensor([[1, 4],\n",
      "        [2, 5],\n",
      "        [3, 6]])\n"
     ]
    }
   ],
   "source": [
    "stacked_tensor_dim0=torch.stack((tensor1,tensor2),dim=0)\n",
    "print('shape: ',stacked_tensor_dim0.shape)\n",
    "print(stacked_tensor_dim0)\n",
    "stacked_tensor_dim1=torch.stack((tensor1,tensor2),dim=1)\n",
    "print('shape: ',stacked_tensor_dim1.shape)\n",
    "print(stacked_tensor_dim1)\n",
    "\n"
   ]
  },
  {
   "cell_type": "code",
   "execution_count": 4,
   "id": "b2c533f5",
   "metadata": {},
   "outputs": [
    {
     "name": "stdout",
     "output_type": "stream",
     "text": [
      "shape:  torch.Size([3, 3])\n",
      "tensor([[1, 2, 3],\n",
      "        [4, 5, 6],\n",
      "        [7, 8, 9]])\n"
     ]
    }
   ],
   "source": [
    "tensor3=torch.tensor([7,8,9])\n",
    "stacked_tensor_dim0=torch.stack((tensor1,tensor2,tensor3),dim=0)\n",
    "print('shape: ',stacked_tensor_dim0.shape)\n",
    "print(stacked_tensor_dim0)"
   ]
  },
  {
   "cell_type": "code",
   "execution_count": 5,
   "id": "0b60f17a",
   "metadata": {},
   "outputs": [
    {
     "name": "stdout",
     "output_type": "stream",
     "text": [
      "shape torch.Size([2, 2, 2])\n",
      "tensor([[[1, 2],\n",
      "         [3, 4]],\n",
      "\n",
      "        [[5, 6],\n",
      "         [7, 8]]])\n"
     ]
    }
   ],
   "source": [
    "tensor1=torch.tensor([[1,2],[3,4]])\n",
    "tensor2=torch.tensor([[5,6],[7,8]])\n",
    "stacked2d=torch.stack((tensor1,tensor2),dim=0)\n",
    "print('shape',stacked2d.shape)\n",
    "print(stacked2d)\n"
   ]
  },
  {
   "cell_type": "code",
   "execution_count": 6,
   "id": "1c3a978a",
   "metadata": {},
   "outputs": [
    {
     "name": "stdout",
     "output_type": "stream",
     "text": [
      "shape torch.Size([2, 2, 2])\n",
      "tensor([[[1, 2],\n",
      "         [5, 6]],\n",
      "\n",
      "        [[3, 4],\n",
      "         [7, 8]]])\n"
     ]
    }
   ],
   "source": [
    "stacked2d_dim1=torch.stack((tensor1,tensor2),dim=1)\n",
    "print('shape',stacked2d_dim1.shape)\n",
    "print(stacked2d_dim1)"
   ]
  },
  {
   "cell_type": "code",
   "execution_count": 7,
   "id": "91c18358",
   "metadata": {},
   "outputs": [
    {
     "name": "stdout",
     "output_type": "stream",
     "text": [
      "shape torch.Size([2, 2, 2])\n",
      "tensor([[[1, 5],\n",
      "         [2, 6]],\n",
      "\n",
      "        [[3, 7],\n",
      "         [4, 8]]])\n"
     ]
    }
   ],
   "source": [
    "stacked2d_dim2=torch.stack((tensor1,tensor2),dim=2)\n",
    "print('shape',stacked2d_dim2.shape)\n",
    "print(stacked2d_dim2)"
   ]
  },
  {
   "cell_type": "code",
   "execution_count": 8,
   "id": "a31c0ada",
   "metadata": {},
   "outputs": [
    {
     "name": "stdout",
     "output_type": "stream",
     "text": [
      "shape torch.Size([4, 2])\n",
      "tensor([[1, 2],\n",
      "        [3, 4],\n",
      "        [5, 6],\n",
      "        [7, 8]])\n"
     ]
    }
   ],
   "source": [
    "concat=torch.cat((tensor1,tensor2),dim=0)\n",
    "print('shape',concat.shape)\n",
    "print(concat)"
   ]
  },
  {
   "cell_type": "code",
   "execution_count": 9,
   "id": "5d40672c",
   "metadata": {},
   "outputs": [
    {
     "name": "stdout",
     "output_type": "stream",
     "text": [
      "shape torch.Size([2, 4])\n",
      "tensor([[1, 2, 5, 6],\n",
      "        [3, 4, 7, 8]])\n"
     ]
    }
   ],
   "source": [
    "concat=torch.cat((tensor1,tensor2),dim=1)\n",
    "print('shape',concat.shape)\n",
    "print(concat)"
   ]
  }
 ],
 "metadata": {
  "kernelspec": {
   "display_name": "pytorch",
   "language": "python",
   "name": "python3"
  },
  "language_info": {
   "codemirror_mode": {
    "name": "ipython",
    "version": 3
   },
   "file_extension": ".py",
   "mimetype": "text/x-python",
   "name": "python",
   "nbconvert_exporter": "python",
   "pygments_lexer": "ipython3",
   "version": "3.13.5"
  }
 },
 "nbformat": 4,
 "nbformat_minor": 5
}
