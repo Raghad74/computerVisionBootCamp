{
 "cells": [
  {
   "cell_type": "markdown",
   "id": "df0971a3",
   "metadata": {},
   "source": [
    "## tensor manipulation\n",
    "- reshaping\n",
    "- slicing\n",
    "- joining or splitting\n",
    "- transposing and permuting dimension"
   ]
  },
  {
   "cell_type": "code",
   "execution_count": 1,
   "id": "294d1db1",
   "metadata": {},
   "outputs": [],
   "source": [
    "import torch"
   ]
  },
  {
   "cell_type": "code",
   "execution_count": 3,
   "id": "775aba8d",
   "metadata": {},
   "outputs": [
    {
     "name": "stdout",
     "output_type": "stream",
     "text": [
      "tensor([ 0,  1,  2,  3,  4,  5,  6,  7,  8,  9, 10, 11])\n",
      "12\n",
      "1\n"
     ]
    }
   ],
   "source": [
    "#reshaping tensors\n",
    "#reshape\n",
    "#view\n",
    "\n",
    "og_tensor=torch.arange(12)\n",
    "print(og_tensor)\n",
    "print(og_tensor.nelement())\n",
    "print(og_tensor.ndim)"
   ]
  },
  {
   "cell_type": "code",
   "execution_count": 4,
   "id": "2db348ad",
   "metadata": {},
   "outputs": [
    {
     "name": "stdout",
     "output_type": "stream",
     "text": [
      "tensor([[ 0,  1,  2,  3,  4,  5],\n",
      "        [ 6,  7,  8,  9, 10, 11]])\n",
      "2\n",
      "12\n"
     ]
    }
   ],
   "source": [
    "reshaped_tensor=og_tensor.reshape(2,6)\n",
    "print(reshaped_tensor)\n",
    "print(reshaped_tensor.ndim)\n",
    "print(reshaped_tensor.nelement())"
   ]
  },
  {
   "cell_type": "code",
   "execution_count": 5,
   "id": "645ae8ee",
   "metadata": {},
   "outputs": [
    {
     "name": "stdout",
     "output_type": "stream",
     "text": [
      "tensor([[ 0,  1,  2,  3],\n",
      "        [ 4,  5,  6,  7],\n",
      "        [ 8,  9, 10, 11]])\n",
      "2\n",
      "12\n"
     ]
    }
   ],
   "source": [
    "reshaped_tensor=og_tensor.reshape(3,4)\n",
    "print(reshaped_tensor)\n",
    "print(reshaped_tensor.ndim)\n",
    "print(reshaped_tensor.nelement())"
   ]
  },
  {
   "cell_type": "code",
   "execution_count": 8,
   "id": "fdf8608c",
   "metadata": {},
   "outputs": [
    {
     "name": "stdout",
     "output_type": "stream",
     "text": [
      "True\n",
      "tensor([ 0,  1,  2,  3,  4,  5,  6,  7,  8,  9, 10, 11])\n"
     ]
    }
   ],
   "source": [
    "#view\n",
    "print(reshaped_tensor.is_contiguous())\n",
    "flattened_tensor=reshaped_tensor.view(-1)\n",
    "print(flattened_tensor)"
   ]
  },
  {
   "cell_type": "markdown",
   "id": "924058ff",
   "metadata": {},
   "source": [
    "## Slicing \n",
    "Extract specific portions of tensors"
   ]
  },
  {
   "cell_type": "code",
   "execution_count": 9,
   "id": "b478c952",
   "metadata": {},
   "outputs": [
    {
     "name": "stdout",
     "output_type": "stream",
     "text": [
      "tensor([[1, 2, 3],\n",
      "        [4, 5, 6],\n",
      "        [7, 8, 9]])\n",
      "2\n"
     ]
    }
   ],
   "source": [
    "tensor_a=torch.tensor([[1,2,3],[4,5,6],[7,8,9]])\n",
    "print(tensor_a)\n",
    "print(tensor_a.ndim)"
   ]
  },
  {
   "cell_type": "code",
   "execution_count": 10,
   "id": "69c35175",
   "metadata": {},
   "outputs": [
    {
     "name": "stdout",
     "output_type": "stream",
     "text": [
      "tensor([1, 2, 3])\n"
     ]
    }
   ],
   "source": [
    "print(tensor_a[0])"
   ]
  },
  {
   "cell_type": "code",
   "execution_count": 11,
   "id": "70fe9006",
   "metadata": {},
   "outputs": [
    {
     "data": {
      "text/plain": [
       "tensor([3, 6, 9])"
      ]
     },
     "execution_count": 11,
     "metadata": {},
     "output_type": "execute_result"
    }
   ],
   "source": [
    "tensor_a[:,2]"
   ]
  },
  {
   "cell_type": "code",
   "execution_count": 12,
   "id": "756a7b09",
   "metadata": {},
   "outputs": [
    {
     "data": {
      "text/plain": [
       "torch.Size([3, 3])"
      ]
     },
     "execution_count": 12,
     "metadata": {},
     "output_type": "execute_result"
    }
   ],
   "source": [
    "tensor_a.shape"
   ]
  },
  {
   "cell_type": "code",
   "execution_count": 13,
   "id": "11a0a779",
   "metadata": {},
   "outputs": [
    {
     "name": "stdout",
     "output_type": "stream",
     "text": [
      "torch.Size([2, 2])\n",
      "tensor([[5, 6],\n",
      "        [8, 9]])\n"
     ]
    }
   ],
   "source": [
    "sub=tensor_a[1:,1:]\n",
    "print(sub.shape)\n",
    "print(sub)"
   ]
  },
  {
   "cell_type": "markdown",
   "id": "dac20847",
   "metadata": {},
   "source": [
    "## joining tensors"
   ]
  },
  {
   "cell_type": "code",
   "execution_count": 16,
   "id": "902f5e07",
   "metadata": {},
   "outputs": [
    {
     "name": "stdout",
     "output_type": "stream",
     "text": [
      "tensor([[1, 2],\n",
      "        [3, 4],\n",
      "        [5, 6],\n",
      "        [7, 8]])\n",
      "tensor([[1, 2, 5, 6],\n",
      "        [3, 4, 7, 8]])\n"
     ]
    }
   ],
   "source": [
    "#torch.cat()--> merges tensors along an existing dimension\n",
    "tensor1=torch.tensor([[1,2],[3,4]])\n",
    "tensor2=torch.tensor([[5,6],[7,8]])\n",
    "\n",
    "concat_tensor_rows=torch.cat((tensor1,tensor2),dim=0)\n",
    "concat_tensor_cols=torch.cat((tensor1,tensor2),dim=1)\n",
    "print(concat_tensor_rows)\n",
    "print(concat_tensor_cols)"
   ]
  },
  {
   "cell_type": "code",
   "execution_count": 19,
   "id": "b1f32a92",
   "metadata": {},
   "outputs": [
    {
     "name": "stdout",
     "output_type": "stream",
     "text": [
      "tensor([[[1, 2],\n",
      "         [3, 4]],\n",
      "\n",
      "        [[5, 6],\n",
      "         [7, 8]]])\n",
      "torch.Size([2, 2, 2])\n",
      "====================\n",
      "tensor([[[1, 2],\n",
      "         [5, 6]],\n",
      "\n",
      "        [[3, 4],\n",
      "         [7, 8]]])\n",
      "torch.Size([2, 2, 2])\n"
     ]
    }
   ],
   "source": [
    "#stack --> created a new dimension, increases the tensors rank\n",
    "stack_tensor_rows=torch.stack((tensor1,tensor2),dim=0)\n",
    "stack_tensor_cols=torch.stack((tensor1,tensor2),dim=1)\n",
    "print(stack_tensor_rows)\n",
    "print(stack_tensor_rows.shape)\n",
    "print(\"=\"*20)\n",
    "print(stack_tensor_cols)\n",
    "print(stack_tensor_cols.shape)"
   ]
  },
  {
   "cell_type": "markdown",
   "id": "fb8dde80",
   "metadata": {},
   "source": [
    "## splitting tensors\n",
    "- torch.chunk()--> divides your tensor into equal-sized chunks\n",
    "- torch.split()-> allows uneven splitting based on size"
   ]
  },
  {
   "cell_type": "code",
   "execution_count": 22,
   "id": "b8b1e1c6",
   "metadata": {},
   "outputs": [
    {
     "name": "stdout",
     "output_type": "stream",
     "text": [
      "(tensor([0, 1, 2]), tensor([3, 4, 5]), tensor([6, 7, 8]), tensor([ 9, 10, 11]))\n"
     ]
    }
   ],
   "source": [
    "#torch.chunk\n",
    "og_tensor=torch.arange(12)\n",
    "chunks=torch.chunk(og_tensor,5,dim=0)\n",
    "print(chunks)"
   ]
  },
  {
   "cell_type": "code",
   "execution_count": 21,
   "id": "4b4ae544",
   "metadata": {},
   "outputs": [
    {
     "name": "stdout",
     "output_type": "stream",
     "text": [
      "tensor([0, 1, 2, 3])\n",
      "tensor([4, 5, 6, 7])\n",
      "tensor([ 8,  9, 10, 11])\n"
     ]
    }
   ],
   "source": [
    "for chunk in chunks:\n",
    "    print(chunk)"
   ]
  },
  {
   "cell_type": "code",
   "execution_count": 23,
   "id": "f05e9309",
   "metadata": {},
   "outputs": [
    {
     "name": "stdout",
     "output_type": "stream",
     "text": [
      "(tensor([0, 1, 2, 3, 4]), tensor([5, 6, 7, 8, 9]), tensor([10, 11]))\n",
      "tensor([0, 1, 2, 3, 4])\n",
      "tensor([5, 6, 7, 8, 9])\n",
      "tensor([10, 11])\n"
     ]
    }
   ],
   "source": [
    "#torch.split\n",
    "splits=torch.split(og_tensor,5,dim=0)\n",
    "print(splits)\n",
    "for split in splits:\n",
    "    print(split)"
   ]
  },
  {
   "cell_type": "markdown",
   "id": "6deb2613",
   "metadata": {},
   "source": [
    "## Transposing and permuting\n",
    "- transpose()--> swaps two dimensions -->nxm\n",
    "- permute()--> rearranges all dimensions in the specified order"
   ]
  },
  {
   "cell_type": "code",
   "execution_count": 25,
   "id": "226a026e",
   "metadata": {},
   "outputs": [
    {
     "name": "stdout",
     "output_type": "stream",
     "text": [
      "tensor([[ 0,  1],\n",
      "        [ 2,  3],\n",
      "        [ 4,  5],\n",
      "        [ 6,  7],\n",
      "        [ 8,  9],\n",
      "        [10, 11],\n",
      "        [12, 13],\n",
      "        [14, 15],\n",
      "        [16, 17],\n",
      "        [18, 19],\n",
      "        [20, 21],\n",
      "        [22, 23]])\n",
      "torch.Size([12, 2])\n",
      "torch.Size([2, 12])\n",
      "tensor([[ 0,  2,  4,  6,  8, 10, 12, 14, 16, 18, 20, 22],\n",
      "        [ 1,  3,  5,  7,  9, 11, 13, 15, 17, 19, 21, 23]])\n"
     ]
    }
   ],
   "source": [
    "tensor_og=torch.arange(24).reshape(12,2)\n",
    "transposed=tensor_og.transpose(0,1)\n",
    "print(tensor_og)\n",
    "print(tensor_og.shape)\n",
    "print(transposed.shape)\n",
    "print(transposed)\n"
   ]
  },
  {
   "cell_type": "code",
   "execution_count": 27,
   "id": "a2109e6d",
   "metadata": {},
   "outputs": [
    {
     "name": "stdout",
     "output_type": "stream",
     "text": [
      "tensor([[[ 0,  1,  2,  3],\n",
      "         [ 4,  5,  6,  7],\n",
      "         [ 8,  9, 10, 11]],\n",
      "\n",
      "        [[12, 13, 14, 15],\n",
      "         [16, 17, 18, 19],\n",
      "         [20, 21, 22, 23]]])\n",
      "==============================\n",
      "tensor([[[ 0,  4,  8],\n",
      "         [12, 16, 20]],\n",
      "\n",
      "        [[ 1,  5,  9],\n",
      "         [13, 17, 21]],\n",
      "\n",
      "        [[ 2,  6, 10],\n",
      "         [14, 18, 22]],\n",
      "\n",
      "        [[ 3,  7, 11],\n",
      "         [15, 19, 23]]])\n"
     ]
    }
   ],
   "source": [
    "tensor_og=torch.arange(24).reshape(2,3,4)\n",
    "permuted=tensor_og.permute(2,0,1)\n",
    "print(tensor_og)\n",
    "print(\"=\"*30)\n",
    "print(permuted)\n"
   ]
  },
  {
   "cell_type": "markdown",
   "id": "ef8dd6ec",
   "metadata": {},
   "source": [
    "## cloning and detaching"
   ]
  },
  {
   "cell_type": "code",
   "execution_count": 28,
   "id": "97f1297c",
   "metadata": {},
   "outputs": [
    {
     "name": "stdout",
     "output_type": "stream",
     "text": [
      "[1, 2, 3]\n",
      "[1, 2, 3]\n"
     ]
    }
   ],
   "source": [
    "import copy\n",
    "a=[1,2,3]\n",
    "b=copy.deepcopy(a)\n",
    "print(a)\n",
    "print(b)"
   ]
  },
  {
   "cell_type": "code",
   "execution_count": 29,
   "id": "50664335",
   "metadata": {},
   "outputs": [],
   "source": [
    "tensor=torch.ones(3,3,requires_grad=True)#part of computation graph\n",
    "cloned=tensor.clone()#part of computation graph\n",
    "detached=tensor.detach()# this code will detach the tensor from the comutaion graph\n",
    "#not a part of computation graph\n",
    "#but storage will be the same as the original one\n"
   ]
  }
 ],
 "metadata": {
  "kernelspec": {
   "display_name": "pytorch",
   "language": "python",
   "name": "python3"
  },
  "language_info": {
   "codemirror_mode": {
    "name": "ipython",
    "version": 3
   },
   "file_extension": ".py",
   "mimetype": "text/x-python",
   "name": "python",
   "nbconvert_exporter": "python",
   "pygments_lexer": "ipython3",
   "version": "3.13.5"
  }
 },
 "nbformat": 4,
 "nbformat_minor": 5
}
