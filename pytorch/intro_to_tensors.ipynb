{
 "cells": [
  {
   "cell_type": "code",
   "execution_count": 1,
   "id": "2b5c032c",
   "metadata": {},
   "outputs": [],
   "source": [
    "import torch"
   ]
  },
  {
   "cell_type": "markdown",
   "id": "206be047",
   "metadata": {},
   "source": [
    "# creating tensors"
   ]
  },
  {
   "cell_type": "code",
   "execution_count": 2,
   "id": "2d462024",
   "metadata": {},
   "outputs": [
    {
     "name": "stdout",
     "output_type": "stream",
     "text": [
      "scalar tensor:  tensor(42)\n",
      "scalar dimension:  0\n",
      "scalar shape:  torch.Size([])\n"
     ]
    }
   ],
   "source": [
    "#1. Scalar tensor\n",
    "a=2\n",
    "scalar=torch.tensor(42)\n",
    "print(\"scalar tensor: \",scalar)\n",
    "print(\"scalar dimension: \",scalar.ndim)\n",
    "print(\"scalar shape: \",scalar.shape)\n"
   ]
  },
  {
   "cell_type": "code",
   "execution_count": 3,
   "id": "03915277",
   "metadata": {},
   "outputs": [
    {
     "name": "stdout",
     "output_type": "stream",
     "text": [
      "vector tensor:  tensor([1, 3, 2])\n",
      "vector dimension:  1\n",
      "vector shape:  torch.Size([3])\n"
     ]
    }
   ],
   "source": [
    "#1D tensor: vector\n",
    "vector=torch.tensor([1,3,2])\n",
    "print(\"vector tensor: \",vector)\n",
    "print(\"vector dimension: \",vector.ndim)\n",
    "print(\"vector shape: \",vector.shape)"
   ]
  },
  {
   "cell_type": "code",
   "execution_count": 5,
   "id": "54389df0",
   "metadata": {},
   "outputs": [
    {
     "name": "stdout",
     "output_type": "stream",
     "text": [
      "matrix tensor:  tensor([[1, 2, 3],\n",
      "        [3, 4, 4]])\n",
      "matrix dimension:  2\n",
      "matrix shape:  torch.Size([2, 3])\n"
     ]
    }
   ],
   "source": [
    "#matrix 2D\n",
    "\n",
    "matrix1=torch.tensor([[1,2,3],[3,4,4]])\n",
    "print(\"matrix tensor: \",matrix1)\n",
    "print(\"matrix dimension: \",matrix1.ndim)\n",
    "print(\"matrix shape: \",matrix1.shape)\n"
   ]
  },
  {
   "cell_type": "code",
   "execution_count": 6,
   "id": "404f8181",
   "metadata": {},
   "outputs": [
    {
     "name": "stdout",
     "output_type": "stream",
     "text": [
      "tensor:  tensor([[[1, 2, 3],\n",
      "         [3, 4, 4]],\n",
      "\n",
      "        [[1, 2, 3],\n",
      "         [3, 4, 4]]])\n",
      "dimension:  3\n",
      "shape:  torch.Size([2, 2, 3])\n"
     ]
    }
   ],
   "source": [
    "# 3D tensor\n",
    "tensor3D=torch.tensor([[[1,2,3],[3,4,4]],\n",
    "                      [[1,2,3],[3,4,4]]])\n",
    "print(\"tensor: \",tensor3D)\n",
    "print(\"dimension: \",tensor3D.ndim)\n",
    "print(\"shape: \",tensor3D.shape)"
   ]
  },
  {
   "cell_type": "code",
   "execution_count": 9,
   "id": "4ad7da59",
   "metadata": {},
   "outputs": [
    {
     "name": "stdout",
     "output_type": "stream",
     "text": [
      " data type of matrix:  torch.int64\n",
      "device of tensor:  cpu\n",
      "num of elements:  6\n"
     ]
    }
   ],
   "source": [
    "# Tensor properties\n",
    "print(\" data type of matrix: \",matrix1.dtype)\n",
    "print(\"device of tensor: \",matrix1.device)\n",
    "print('num of elements: ',matrix1.numel())"
   ]
  }
 ],
 "metadata": {
  "kernelspec": {
   "display_name": "pytorch",
   "language": "python",
   "name": "python3"
  },
  "language_info": {
   "codemirror_mode": {
    "name": "ipython",
    "version": 3
   },
   "file_extension": ".py",
   "mimetype": "text/x-python",
   "name": "python",
   "nbconvert_exporter": "python",
   "pygments_lexer": "ipython3",
   "version": "3.13.5"
  }
 },
 "nbformat": 4,
 "nbformat_minor": 5
}
