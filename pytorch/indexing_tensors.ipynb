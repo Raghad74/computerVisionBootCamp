{
 "cells": [
  {
   "cell_type": "code",
   "execution_count": 1,
   "id": "ad95d553",
   "metadata": {},
   "outputs": [],
   "source": [
    "import torch"
   ]
  },
  {
   "cell_type": "markdown",
   "id": "7d775cf9",
   "metadata": {},
   "source": [
    "## indexing"
   ]
  },
  {
   "cell_type": "code",
   "execution_count": 2,
   "id": "f0cb67d6",
   "metadata": {},
   "outputs": [
    {
     "name": "stdout",
     "output_type": "stream",
     "text": [
      "2\n",
      "torch.Size([3, 3])\n"
     ]
    }
   ],
   "source": [
    "tensor1=torch.tensor([[10,20,30],[40,50,60],[70,80,90]])\n",
    "print(tensor1.ndim)\n",
    "print(tensor1.shape)"
   ]
  },
  {
   "cell_type": "code",
   "execution_count": 3,
   "id": "a875300b",
   "metadata": {},
   "outputs": [
    {
     "name": "stdout",
     "output_type": "stream",
     "text": [
      "element at (0,1):  tensor(20)\n"
     ]
    }
   ],
   "source": [
    "print(\"element at (0,1): \",tensor1[0,1])"
   ]
  },
  {
   "cell_type": "code",
   "execution_count": 7,
   "id": "d84333db",
   "metadata": {},
   "outputs": [
    {
     "data": {
      "text/plain": [
       "tensor([10, 20, 30])"
      ]
     },
     "execution_count": 7,
     "metadata": {},
     "output_type": "execute_result"
    }
   ],
   "source": [
    "#first row\n",
    "tensor1[0]"
   ]
  },
  {
   "cell_type": "code",
   "execution_count": 8,
   "id": "a98923b1",
   "metadata": {},
   "outputs": [
    {
     "data": {
      "text/plain": [
       "tensor([10, 40, 70])"
      ]
     },
     "execution_count": 8,
     "metadata": {},
     "output_type": "execute_result"
    }
   ],
   "source": [
    "# first column\n",
    "tensor1[:,0]"
   ]
  },
  {
   "cell_type": "markdown",
   "id": "d5d03877",
   "metadata": {},
   "source": [
    "## Slicing"
   ]
  },
  {
   "cell_type": "code",
   "execution_count": 9,
   "id": "14fdcea2",
   "metadata": {},
   "outputs": [
    {
     "name": "stdout",
     "output_type": "stream",
     "text": [
      "First two rows:  tensor([[10, 20, 30],\n",
      "        [40, 50, 60]])\n"
     ]
    }
   ],
   "source": [
    "print(\"First two rows: \",tensor1[:2])"
   ]
  },
  {
   "cell_type": "code",
   "execution_count": 10,
   "id": "178aab61",
   "metadata": {},
   "outputs": [
    {
     "name": "stdout",
     "output_type": "stream",
     "text": [
      "first 2 columns:  tensor([[10, 20],\n",
      "        [40, 50],\n",
      "        [70, 80]])\n"
     ]
    }
   ],
   "source": [
    "print(\"first 2 columns: \",tensor1[:,:2])"
   ]
  },
  {
   "cell_type": "code",
   "execution_count": 15,
   "id": "a2b328dc",
   "metadata": {},
   "outputs": [
    {
     "name": "stdout",
     "output_type": "stream",
     "text": [
      "tensor([50, 60])\n"
     ]
    }
   ],
   "source": [
    "# middle elements (row 1 and cols 1 and 2)\n",
    "print(tensor1[1,1:3])"
   ]
  },
  {
   "cell_type": "code",
   "execution_count": 16,
   "id": "1bffaf0e",
   "metadata": {},
   "outputs": [
    {
     "name": "stdout",
     "output_type": "stream",
     "text": [
      "tensor([20, 90])\n"
     ]
    }
   ],
   "source": [
    "# fancy indexing\n",
    "#(0,1)-->20\n",
    "#(2,2)-->90\n",
    "print(tensor1[[0,2],[1,2]])"
   ]
  },
  {
   "cell_type": "code",
   "execution_count": 19,
   "id": "8150c05a",
   "metadata": {},
   "outputs": [
    {
     "name": "stdout",
     "output_type": "stream",
     "text": [
      "tensor([[False, False, False],\n",
      "        [False,  True,  True],\n",
      "        [ True,  True,  True]])\n",
      "tensor([50, 60, 70, 80, 90])\n"
     ]
    }
   ],
   "source": [
    "#boolean indexing\n",
    "mask =tensor1>=50\n",
    "print(mask)\n",
    "print(tensor1[mask])"
   ]
  },
  {
   "cell_type": "code",
   "execution_count": 20,
   "id": "67de2c4e",
   "metadata": {},
   "outputs": [
    {
     "name": "stdout",
     "output_type": "stream",
     "text": [
      "tensor([[10, 20, 30],\n",
      "        [40, 50, 60],\n",
      "        [70, 80, 90]])\n",
      "tensor([[10, 25, 30],\n",
      "        [40, 50, 60],\n",
      "        [70, 80, 90]])\n"
     ]
    }
   ],
   "source": [
    "# changing vals via indexing\n",
    "print(tensor1)\n",
    "tensor1[0,1]=25\n",
    "print(tensor1)"
   ]
  },
  {
   "cell_type": "code",
   "execution_count": 21,
   "id": "fc78bf98",
   "metadata": {},
   "outputs": [
    {
     "name": "stdout",
     "output_type": "stream",
     "text": [
      "tensor([[100,  25,  30],\n",
      "        [200,  50,  60],\n",
      "        [300,  80,  90]])\n"
     ]
    }
   ],
   "source": [
    "tensor1[:,0]=torch.tensor([100,200,300])\n",
    "print(tensor1)"
   ]
  },
  {
   "cell_type": "code",
   "execution_count": 24,
   "id": "b6226cc2",
   "metadata": {},
   "outputs": [
    {
     "name": "stdout",
     "output_type": "stream",
     "text": [
      "tensor([[100,  25,  30],\n",
      "        [300,  80,  90]])\n"
     ]
    }
   ],
   "source": [
    "indices=torch.tensor([0,2])\n",
    "selected_rows=torch.index_select(tensor1,dim=0,index=indices)\n",
    "print(selected_rows)"
   ]
  },
  {
   "cell_type": "code",
   "execution_count": 26,
   "id": "c8d1dd4e",
   "metadata": {},
   "outputs": [
    {
     "name": "stdout",
     "output_type": "stream",
     "text": [
      "tensor([[100,  30],\n",
      "        [200,  60],\n",
      "        [300,  90]])\n"
     ]
    }
   ],
   "source": [
    "# using tensor with steps\n",
    "print(tensor1[:,::2])"
   ]
  },
  {
   "cell_type": "code",
   "execution_count": 32,
   "id": "cfe9e89e",
   "metadata": {},
   "outputs": [
    {
     "name": "stdout",
     "output_type": "stream",
     "text": [
      "tensor([[300,  80,  90],\n",
      "        [200,  50,  60],\n",
      "        [100,  25,  30]])\n"
     ]
    }
   ],
   "source": [
    "print(torch.flip(tensor1,dims=(0,)))"
   ]
  }
 ],
 "metadata": {
  "kernelspec": {
   "display_name": "pytorch",
   "language": "python",
   "name": "python3"
  },
  "language_info": {
   "codemirror_mode": {
    "name": "ipython",
    "version": 3
   },
   "file_extension": ".py",
   "mimetype": "text/x-python",
   "name": "python",
   "nbconvert_exporter": "python",
   "pygments_lexer": "ipython3",
   "version": "3.13.5"
  }
 },
 "nbformat": 4,
 "nbformat_minor": 5
}
