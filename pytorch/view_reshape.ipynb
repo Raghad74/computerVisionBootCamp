{
 "cells": [
  {
   "cell_type": "code",
   "execution_count": 1,
   "id": "c6f0443c",
   "metadata": {},
   "outputs": [],
   "source": [
    "import torch"
   ]
  },
  {
   "cell_type": "code",
   "execution_count": 2,
   "id": "6dd79879",
   "metadata": {},
   "outputs": [],
   "source": [
    "tensor=torch.arange(12)"
   ]
  },
  {
   "cell_type": "code",
   "execution_count": 4,
   "id": "a3a69abe",
   "metadata": {},
   "outputs": [
    {
     "name": "stdout",
     "output_type": "stream",
     "text": [
      "tensor([[ 0,  1,  2,  3,  4,  5],\n",
      "        [ 6,  7,  8,  9, 10, 11]])\n",
      "tensor([[ 0,  1,  2,  3,  4,  5],\n",
      "        [ 6,  7,  8,  9, 10, 11]])\n"
     ]
    }
   ],
   "source": [
    "reshaped_tensor_view=tensor.view(2,6)\n",
    "reshaped_tensor_reshape=tensor.reshape(2,6)\n",
    "print(reshaped_tensor_view)\n",
    "print(reshaped_tensor_reshape)"
   ]
  },
  {
   "cell_type": "code",
   "execution_count": 5,
   "id": "4f6e6b0c",
   "metadata": {},
   "outputs": [
    {
     "name": "stdout",
     "output_type": "stream",
     "text": [
      "True\n",
      "True\n",
      "True\n"
     ]
    }
   ],
   "source": [
    "print(tensor.is_contiguous())\n",
    "print(reshaped_tensor_view.is_contiguous())\n",
    "print(reshaped_tensor_reshape.is_contiguous())"
   ]
  },
  {
   "cell_type": "code",
   "execution_count": 6,
   "id": "d35d9e4f",
   "metadata": {},
   "outputs": [
    {
     "name": "stdout",
     "output_type": "stream",
     "text": [
      "tensor([[ 0,  1,  2,  3],\n",
      "        [ 4,  5,  6,  7],\n",
      "        [ 8,  9, 10, 11]])\n",
      "torch.Size([3, 4])\n"
     ]
    }
   ],
   "source": [
    "inferred_shape=tensor.view(3,-1)\n",
    "print(inferred_shape)\n",
    "print(inferred_shape.shape)"
   ]
  },
  {
   "cell_type": "code",
   "execution_count": 7,
   "id": "e08bf790",
   "metadata": {},
   "outputs": [
    {
     "name": "stdout",
     "output_type": "stream",
     "text": [
      "tensor([[[ 0,  1,  2,  3],\n",
      "         [ 4,  5,  6,  7],\n",
      "         [ 8,  9, 10, 11]],\n",
      "\n",
      "        [[12, 13, 14, 15],\n",
      "         [16, 17, 18, 19],\n",
      "         [20, 21, 22, 23]]])\n"
     ]
    }
   ],
   "source": [
    "tensor_3d=torch.arange(24).reshape(2,3,4)\n",
    "print(tensor_3d)"
   ]
  },
  {
   "cell_type": "code",
   "execution_count": 8,
   "id": "78cbce5c",
   "metadata": {},
   "outputs": [
    {
     "name": "stdout",
     "output_type": "stream",
     "text": [
      "tensor([ 0,  1,  2,  3,  4,  5,  6,  7,  8,  9, 10, 11, 12, 13, 14, 15, 16, 17,\n",
      "        18, 19, 20, 21, 22, 23])\n"
     ]
    }
   ],
   "source": [
    "flattened=tensor_3d.view(-1)\n",
    "print(flattened)"
   ]
  },
  {
   "cell_type": "code",
   "execution_count": 9,
   "id": "eefb7e2f",
   "metadata": {},
   "outputs": [
    {
     "data": {
      "text/plain": [
       "True"
      ]
     },
     "execution_count": 9,
     "metadata": {},
     "output_type": "execute_result"
    }
   ],
   "source": [
    "flattened.is_contiguous()"
   ]
  },
  {
   "cell_type": "code",
   "execution_count": 10,
   "id": "399933a1",
   "metadata": {},
   "outputs": [],
   "source": [
    "tensor2d=torch.arange(24).reshape(12,2)\n",
    "transpose_tensor=tensor2d.t()"
   ]
  },
  {
   "cell_type": "code",
   "execution_count": 11,
   "id": "9fa70d7b",
   "metadata": {},
   "outputs": [
    {
     "data": {
      "text/plain": [
       "False"
      ]
     },
     "execution_count": 11,
     "metadata": {},
     "output_type": "execute_result"
    }
   ],
   "source": [
    "transpose_tensor.is_contiguous()"
   ]
  },
  {
   "cell_type": "code",
   "execution_count": 13,
   "id": "eca3fbe1",
   "metadata": {},
   "outputs": [],
   "source": [
    "error=transpose_tensor.reshape(6,4)"
   ]
  },
  {
   "cell_type": "code",
   "execution_count": 14,
   "id": "c95e7c23",
   "metadata": {},
   "outputs": [
    {
     "name": "stdout",
     "output_type": "stream",
     "text": [
      "tensor([[ 0,  2,  4,  6],\n",
      "        [ 8, 10, 12, 14],\n",
      "        [16, 18, 20, 22],\n",
      "        [ 1,  3,  5,  7],\n",
      "        [ 9, 11, 13, 15],\n",
      "        [17, 19, 21, 23]])\n"
     ]
    }
   ],
   "source": [
    "print(error)"
   ]
  },
  {
   "cell_type": "code",
   "execution_count": 15,
   "id": "0dc747af",
   "metadata": {},
   "outputs": [],
   "source": [
    "contigious=transpose_tensor.contiguous()\n",
    "error=contigious.view(6,4)"
   ]
  }
 ],
 "metadata": {
  "kernelspec": {
   "display_name": "pytorch",
   "language": "python",
   "name": "python3"
  },
  "language_info": {
   "codemirror_mode": {
    "name": "ipython",
    "version": 3
   },
   "file_extension": ".py",
   "mimetype": "text/x-python",
   "name": "python",
   "nbconvert_exporter": "python",
   "pygments_lexer": "ipython3",
   "version": "3.13.5"
  }
 },
 "nbformat": 4,
 "nbformat_minor": 5
}
