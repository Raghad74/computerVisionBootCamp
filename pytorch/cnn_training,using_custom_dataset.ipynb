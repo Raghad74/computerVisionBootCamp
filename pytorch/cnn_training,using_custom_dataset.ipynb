{
 "cells": [
  {
   "cell_type": "markdown",
   "id": "a88944e5",
   "metadata": {},
   "source": [
    "# Loading the Dataset"
   ]
  },
  {
   "cell_type": "code",
   "execution_count": 1,
   "id": "98b22114",
   "metadata": {},
   "outputs": [],
   "source": [
    "import torch\n",
    "import os\n",
    "from PIL import Image\n",
    "from torchvision import transforms\n",
    "from torch.utils.data import Dataset,DataLoader"
   ]
  },
  {
   "cell_type": "code",
   "execution_count": 2,
   "id": "c770b84d",
   "metadata": {},
   "outputs": [],
   "source": [
    "class ImageDataset(Dataset):\n",
    "    def __init__(self,image_dir,transform=None):\n",
    "        self.image_dir=image_dir\n",
    "        self.image_paths=[]\n",
    "        self.labels=[]\n",
    "        self.class_name={}\n",
    "        self.transform=transform\n",
    "        for label,class_dir in enumerate(os.listdir(image_dir)):\n",
    "            self.class_name[label]=class_dir\n",
    "            class_path= os.path.join(image_dir,class_dir)\n",
    "            for image_name in os.listdir(class_path):\n",
    "                self.image_paths.append(os.path.join(class_path,image_name))\n",
    "                self.labels.append(label)\n",
    "                \n",
    "    def __len__(self):\n",
    "        return len(self.image_paths)\n",
    "    \n",
    "    def __getitem__(self, idx):\n",
    "        img_path= self.image_paths[idx]\n",
    "        img=Image.open(img_path).convert(\"RGB\")\n",
    "        label=self.labels[idx]\n",
    "        if self.transform:\n",
    "            img=self.transform(img)\n",
    "        return img,label"
   ]
  },
  {
   "cell_type": "code",
   "execution_count": 3,
   "id": "aa962da2",
   "metadata": {},
   "outputs": [],
   "source": [
    "transform=transforms.Compose([\n",
    "    transforms.Resize((128,128)),\n",
    "    transforms.ToTensor(),\n",
    "    transforms.Normalize(mean=[0.5,0.5,0.5],std=[0.5,0.5,0.5])])"
   ]
  },
  {
   "cell_type": "code",
   "execution_count": null,
   "id": "e27855df",
   "metadata": {},
   "outputs": [],
   "source": [
    "train_image_dir='Classification_dataset_v3/images/train'\n",
    "test_image_dir='Classification_dataset_v3/images/test'\n",
    "train_image_dataset=ImageDataset(train_image_dir,transform)\n",
    "test_image_dataset=ImageDataset(test_image_dir,transform)\n"
   ]
  },
  {
   "cell_type": "code",
   "execution_count": 5,
   "id": "78d6182f",
   "metadata": {},
   "outputs": [],
   "source": [
    "train_image_loader=DataLoader(dataset=train_image_dataset,batch_size=32,shuffle=True)\n",
    "test_image_loader=DataLoader(dataset=test_image_dataset,batch_size=32,shuffle=True)"
   ]
  },
  {
   "cell_type": "markdown",
   "id": "87cc123e",
   "metadata": {},
   "source": [
    "# Custom CNN Architecture"
   ]
  },
  {
   "cell_type": "code",
   "execution_count": 6,
   "id": "b596e8a2",
   "metadata": {},
   "outputs": [],
   "source": [
    "import torch.nn as nn \n",
    "import torch.optim as optim"
   ]
  },
  {
   "cell_type": "code",
   "execution_count": 11,
   "id": "9d035a18",
   "metadata": {},
   "outputs": [],
   "source": [
    "class CustomCnnModel(nn.Module):\n",
    "    def __init__(self,input_dim,num_classes):\n",
    "        super(CustomCnnModel,self).__init__()\n",
    "        self.input_dim=input_dim\n",
    "        self.num_classes=num_classes\n",
    "        self.conv_layers=nn.Sequential(\n",
    "            #C1\n",
    "            nn.Conv2d(3,32,kernel_size=3,stride=1,padding=1),\n",
    "            nn.BatchNorm2d(32),\n",
    "            nn.ReLU(),\n",
    "            nn.MaxPool2d(kernel_size=2,stride=2),\n",
    "            #C2\n",
    "            nn.Conv2d(32,64,kernel_size=3,stride=1,padding=1),\n",
    "            nn.BatchNorm2d(64),\n",
    "            nn.ReLU(),\n",
    "            nn.MaxPool2d(kernel_size=2,stride=2),\n",
    "            #C3\n",
    "            nn.Conv2d(64,128,kernel_size=3,stride=1,padding=1),\n",
    "            nn.BatchNorm2d(128),\n",
    "            nn.ReLU(),\n",
    "            nn.MaxPool2d(kernel_size=2,stride=2),\n",
    "            #C4\n",
    "            nn.Conv2d(128,256,kernel_size=3,stride=1,padding=1),\n",
    "            nn.BatchNorm2d(256),\n",
    "            nn.ReLU(),\n",
    "            nn.MaxPool2d(kernel_size=2,stride=2)\n",
    "        )\n",
    "        self._to_linear=None\n",
    "        self._get_conv_output(self.input_dim)\n",
    "        \n",
    "        self.fc_layer=nn.Sequential(\n",
    "            nn.Linear(self._to_linear,512),\n",
    "            nn.ReLU(),\n",
    "            nn.Linear(512,128),\n",
    "            nn.ReLU(),\n",
    "            nn.Linear(128,self.num_classes)\n",
    "        )\n",
    "\n",
    "    def _get_conv_output(self,input_dim=128):\n",
    "        with torch.no_grad():\n",
    "            dummy_input=torch.zeros(1,3,input_dim,input_dim)\n",
    "            output=self.conv_layers(dummy_input)\n",
    "            self._to_linear=output.view(1,-1).size(1)\n",
    "            \n",
    "\n",
    "\n",
    "    def forward(self,x):\n",
    "        x=self.conv_layers(x)\n",
    "        x=x.view(x.size(0),-1)\n",
    "        x=self.fc_layer(x)\n",
    "        return x\n"
   ]
  },
  {
   "cell_type": "code",
   "execution_count": 12,
   "id": "12e131eb",
   "metadata": {},
   "outputs": [],
   "source": [
    "#Initialize Model\n",
    "device=torch.device('cuda' if torch.cuda.is_available() else 'cpu')\n",
    "model=CustomCnnModel(input_dim=128,num_classes=3).to(device)"
   ]
  },
  {
   "cell_type": "code",
   "execution_count": 13,
   "id": "511f2958",
   "metadata": {},
   "outputs": [],
   "source": [
    "criterion=nn.CrossEntropyLoss()\n",
    "optimizer=optim.Adam(model.parameters(),lr=0.001)"
   ]
  },
  {
   "cell_type": "code",
   "execution_count": 14,
   "id": "121619a1",
   "metadata": {},
   "outputs": [
    {
     "name": "stdout",
     "output_type": "stream",
     "text": [
      "epoch 1/10, current loss: 1.1506975130030983\n",
      "epoch 2/10, current loss: 0.6446014881134033\n",
      "epoch 3/10, current loss: 0.5558558727565565\n",
      "epoch 4/10, current loss: 0.5100406712607334\n",
      "epoch 5/10, current loss: 0.4605522761219426\n",
      "epoch 6/10, current loss: 0.41340242012550954\n",
      "epoch 7/10, current loss: 0.3731941525873385\n",
      "epoch 8/10, current loss: 0.3252238731635244\n",
      "epoch 9/10, current loss: 0.3270696421987132\n",
      "epoch 10/10, current loss: 0.2917503323994185\n"
     ]
    }
   ],
   "source": [
    "#training loop\n",
    "epochs=10\n",
    "for epoch in range(epochs):\n",
    "    model.train()\n",
    "    running_loss=0.0\n",
    "    for images,labels in train_image_loader:\n",
    "        images,labels=images.to(device),labels.to(device)\n",
    "        optimizer.zero_grad()\n",
    "        outputs=model(images)\n",
    "        loss=criterion(outputs,labels)\n",
    "        loss.backward()\n",
    "        optimizer.step()\n",
    "        running_loss+=loss.item()\n",
    "    print(f'epoch {epoch+1}/{epochs}, current loss: {running_loss/len(train_image_loader)}')\n",
    "\n",
    "    "
   ]
  },
  {
   "cell_type": "code",
   "execution_count": 15,
   "id": "ccd6ea7f",
   "metadata": {},
   "outputs": [],
   "source": [
    "torch.save(model.state_dict(),\"cnn_model.pth\")"
   ]
  },
  {
   "cell_type": "code",
   "execution_count": 16,
   "id": "e2b23dd9",
   "metadata": {},
   "outputs": [
    {
     "name": "stdout",
     "output_type": "stream",
     "text": [
      "test accuracy is: 68.00%\n"
     ]
    }
   ],
   "source": [
    "#Evaluate model\n",
    "model.eval()\n",
    "correct=0\n",
    "total=0\n",
    "with torch.no_grad():\n",
    "    for images,labels in test_image_loader:\n",
    "        images,labels=images.to(device),labels.to(device)\n",
    "        outputs=model(images)\n",
    "        _,predicted=torch.max(outputs,1)\n",
    "        total+=labels.size(0)\n",
    "        correct+=(predicted==labels).sum().item()\n",
    "print(f\"test accuracy is: {100* correct/total:.2f}%\")\n"
   ]
  },
  {
   "cell_type": "code",
   "execution_count": 17,
   "id": "57a34df7",
   "metadata": {},
   "outputs": [],
   "source": [
    "import cv2"
   ]
  },
  {
   "cell_type": "code",
   "execution_count": 18,
   "id": "762281e3",
   "metadata": {},
   "outputs": [],
   "source": [
    "class ImageClassifier:\n",
    "    def __init__(self,model_path,class_names):\n",
    "        self.device=torch.device('cuda' if torch.cuda.is_available() else 'cpu')\n",
    "        self.model=CustomCnnModel(input_dim=128,num_classes=3).to(device)\n",
    "        self.model.load_state_dict(torch.load(model_path,map_location=self.device))\n",
    "        self.model.eval()\n",
    "        self.class_names=class_names\n",
    "        self.transform=transforms.Compose([\n",
    "            transforms.Resize((128,128)),\n",
    "            transforms.ToTensor(),\n",
    "            transforms.Normalize(mean=[0.5,0.5,0.5],std=[0.5,0.5,0.5])])\n",
    "    \n",
    "    def predict(self,image_path):\n",
    "        img=Image.open(image_path).convert(\"RGB\")\n",
    "        input_tensor=self.transform(img).unsqueeze(0).to(self.device)\n",
    "        with torch.no_grad():\n",
    "            output=self.model(input_tensor)\n",
    "            _,predicted=torch.max(output,1)\n",
    "        label=self.class_names[predicted.item()]\n",
    "        img=cv2.imread(image_path)\n",
    "        cv2.putText(img,label,(10,30),cv2.FONT_HERSHEY_SIMPLEX,1,(255,0,0),2)\n",
    "        cv2.imwrite(\"output_image.jpg\",img)\n",
    "        return label\n",
    "        \n",
    "\n"
   ]
  },
  {
   "cell_type": "code",
   "execution_count": 19,
   "id": "49c01f3d",
   "metadata": {},
   "outputs": [
    {
     "name": "stdout",
     "output_type": "stream",
     "text": [
      "c:\\Users\\ragha\\OneDrive\\Desktop\\CV COURSE\\pytorch\n"
     ]
    }
   ],
   "source": [
    "import os\n",
    "print(os.getcwd())"
   ]
  },
  {
   "cell_type": "code",
   "execution_count": 20,
   "id": "4ade6617",
   "metadata": {},
   "outputs": [
    {
     "name": "stdout",
     "output_type": "stream",
     "text": [
      "Cat\n"
     ]
    }
   ],
   "source": [
    "classifier=ImageClassifier(\"cnn_model.pth\",train_image_dataset.class_name)\n",
    "label=classifier.predict(\"Classification_dataset_v3/images/test/Cat/cat_1005.jpg\")\n",
    "print(label)"
   ]
  }
 ],
 "metadata": {
  "kernelspec": {
   "display_name": "pytorch",
   "language": "python",
   "name": "python3"
  },
  "language_info": {
   "codemirror_mode": {
    "name": "ipython",
    "version": 3
   },
   "file_extension": ".py",
   "mimetype": "text/x-python",
   "name": "python",
   "nbconvert_exporter": "python",
   "pygments_lexer": "ipython3",
   "version": "3.13.5"
  }
 },
 "nbformat": 4,
 "nbformat_minor": 5
}
