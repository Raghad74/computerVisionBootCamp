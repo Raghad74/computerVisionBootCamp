{
 "cells": [
  {
   "cell_type": "code",
   "execution_count": 1,
   "id": "24569ce4",
   "metadata": {},
   "outputs": [],
   "source": [
    "import torch"
   ]
  },
  {
   "cell_type": "code",
   "execution_count": 2,
   "id": "4316d38a",
   "metadata": {},
   "outputs": [],
   "source": [
    "#1. Data gathering \n",
    "#2. Data preprocessing\n",
    "#3. Feature engineering\n",
    "#4. Model training\n",
    "#5. Testing "
   ]
  },
  {
   "cell_type": "code",
   "execution_count": 3,
   "id": "d917f8ab",
   "metadata": {},
   "outputs": [],
   "source": [
    "## Dataset used\n",
    "# https://www.kaggle.com/datasets/mirichoi0218/insurance"
   ]
  },
  {
   "cell_type": "code",
   "execution_count": 4,
   "id": "6d1568bd",
   "metadata": {},
   "outputs": [
    {
     "name": "stderr",
     "output_type": "stream",
     "text": [
      "c:\\Users\\ragha\\anaconda3\\envs\\pytorch\\Lib\\site-packages\\tqdm\\auto.py:21: TqdmWarning: IProgress not found. Please update jupyter and ipywidgets. See https://ipywidgets.readthedocs.io/en/stable/user_install.html\n",
      "  from .autonotebook import tqdm as notebook_tqdm\n"
     ]
    },
    {
     "name": "stdout",
     "output_type": "stream",
     "text": [
      "C:\\Users\\ragha\\.cache\\kagglehub\\datasets\\mirichoi0218\\insurance\\versions\\1\n"
     ]
    }
   ],
   "source": [
    "import kagglehub\n",
    "#download latest version\n",
    "path=kagglehub.dataset_download(\"mirichoi0218/insurance\")\n",
    "print(path)"
   ]
  },
  {
   "cell_type": "code",
   "execution_count": 5,
   "id": "a5577c24",
   "metadata": {},
   "outputs": [
    {
     "name": "stdout",
     "output_type": "stream",
     "text": [
      "c:\\Users\\ragha\\OneDrive\\Desktop\\CV COURSE\\pytorch\n"
     ]
    }
   ],
   "source": [
    "import os\n",
    "print(os.getcwd())"
   ]
  },
  {
   "cell_type": "code",
   "execution_count": 6,
   "id": "e034c897",
   "metadata": {},
   "outputs": [],
   "source": [
    "import pandas as pd"
   ]
  },
  {
   "cell_type": "code",
   "execution_count": 7,
   "id": "7a5cd9aa",
   "metadata": {},
   "outputs": [
    {
     "data": {
      "text/plain": [
       "['insurance.csv']"
      ]
     },
     "execution_count": 7,
     "metadata": {},
     "output_type": "execute_result"
    }
   ],
   "source": [
    "os.listdir('C:/Users/ragha/.cache/kagglehub/datasets/mirichoi0218/insurance/versions/1')"
   ]
  },
  {
   "cell_type": "code",
   "execution_count": 8,
   "id": "691b4535",
   "metadata": {},
   "outputs": [],
   "source": [
    "df=pd.read_csv(os.path.join(path,'insurance.csv'))"
   ]
  },
  {
   "cell_type": "code",
   "execution_count": 9,
   "id": "d2892500",
   "metadata": {},
   "outputs": [
    {
     "data": {
      "text/html": [
       "<div>\n",
       "<style scoped>\n",
       "    .dataframe tbody tr th:only-of-type {\n",
       "        vertical-align: middle;\n",
       "    }\n",
       "\n",
       "    .dataframe tbody tr th {\n",
       "        vertical-align: top;\n",
       "    }\n",
       "\n",
       "    .dataframe thead th {\n",
       "        text-align: right;\n",
       "    }\n",
       "</style>\n",
       "<table border=\"1\" class=\"dataframe\">\n",
       "  <thead>\n",
       "    <tr style=\"text-align: right;\">\n",
       "      <th></th>\n",
       "      <th>age</th>\n",
       "      <th>sex</th>\n",
       "      <th>bmi</th>\n",
       "      <th>children</th>\n",
       "      <th>smoker</th>\n",
       "      <th>region</th>\n",
       "      <th>charges</th>\n",
       "    </tr>\n",
       "  </thead>\n",
       "  <tbody>\n",
       "    <tr>\n",
       "      <th>0</th>\n",
       "      <td>19</td>\n",
       "      <td>female</td>\n",
       "      <td>27.900</td>\n",
       "      <td>0</td>\n",
       "      <td>yes</td>\n",
       "      <td>southwest</td>\n",
       "      <td>16884.92400</td>\n",
       "    </tr>\n",
       "    <tr>\n",
       "      <th>1</th>\n",
       "      <td>18</td>\n",
       "      <td>male</td>\n",
       "      <td>33.770</td>\n",
       "      <td>1</td>\n",
       "      <td>no</td>\n",
       "      <td>southeast</td>\n",
       "      <td>1725.55230</td>\n",
       "    </tr>\n",
       "    <tr>\n",
       "      <th>2</th>\n",
       "      <td>28</td>\n",
       "      <td>male</td>\n",
       "      <td>33.000</td>\n",
       "      <td>3</td>\n",
       "      <td>no</td>\n",
       "      <td>southeast</td>\n",
       "      <td>4449.46200</td>\n",
       "    </tr>\n",
       "    <tr>\n",
       "      <th>3</th>\n",
       "      <td>33</td>\n",
       "      <td>male</td>\n",
       "      <td>22.705</td>\n",
       "      <td>0</td>\n",
       "      <td>no</td>\n",
       "      <td>northwest</td>\n",
       "      <td>21984.47061</td>\n",
       "    </tr>\n",
       "    <tr>\n",
       "      <th>4</th>\n",
       "      <td>32</td>\n",
       "      <td>male</td>\n",
       "      <td>28.880</td>\n",
       "      <td>0</td>\n",
       "      <td>no</td>\n",
       "      <td>northwest</td>\n",
       "      <td>3866.85520</td>\n",
       "    </tr>\n",
       "  </tbody>\n",
       "</table>\n",
       "</div>"
      ],
      "text/plain": [
       "   age     sex     bmi  children smoker     region      charges\n",
       "0   19  female  27.900         0    yes  southwest  16884.92400\n",
       "1   18    male  33.770         1     no  southeast   1725.55230\n",
       "2   28    male  33.000         3     no  southeast   4449.46200\n",
       "3   33    male  22.705         0     no  northwest  21984.47061\n",
       "4   32    male  28.880         0     no  northwest   3866.85520"
      ]
     },
     "execution_count": 9,
     "metadata": {},
     "output_type": "execute_result"
    }
   ],
   "source": [
    "df.head()"
   ]
  },
  {
   "cell_type": "code",
   "execution_count": 10,
   "id": "0f52a608",
   "metadata": {},
   "outputs": [
    {
     "name": "stdout",
     "output_type": "stream",
     "text": [
      "<class 'pandas.core.frame.DataFrame'>\n",
      "RangeIndex: 1338 entries, 0 to 1337\n",
      "Data columns (total 7 columns):\n",
      " #   Column    Non-Null Count  Dtype  \n",
      "---  ------    --------------  -----  \n",
      " 0   age       1338 non-null   int64  \n",
      " 1   sex       1338 non-null   object \n",
      " 2   bmi       1338 non-null   float64\n",
      " 3   children  1338 non-null   int64  \n",
      " 4   smoker    1338 non-null   object \n",
      " 5   region    1338 non-null   object \n",
      " 6   charges   1338 non-null   float64\n",
      "dtypes: float64(2), int64(2), object(3)\n",
      "memory usage: 73.3+ KB\n"
     ]
    }
   ],
   "source": [
    "df.info()"
   ]
  },
  {
   "cell_type": "code",
   "execution_count": 11,
   "id": "1a457142",
   "metadata": {},
   "outputs": [
    {
     "data": {
      "text/html": [
       "<div>\n",
       "<style scoped>\n",
       "    .dataframe tbody tr th:only-of-type {\n",
       "        vertical-align: middle;\n",
       "    }\n",
       "\n",
       "    .dataframe tbody tr th {\n",
       "        vertical-align: top;\n",
       "    }\n",
       "\n",
       "    .dataframe thead th {\n",
       "        text-align: right;\n",
       "    }\n",
       "</style>\n",
       "<table border=\"1\" class=\"dataframe\">\n",
       "  <thead>\n",
       "    <tr style=\"text-align: right;\">\n",
       "      <th></th>\n",
       "      <th>age</th>\n",
       "      <th>bmi</th>\n",
       "      <th>children</th>\n",
       "      <th>charges</th>\n",
       "    </tr>\n",
       "  </thead>\n",
       "  <tbody>\n",
       "    <tr>\n",
       "      <th>count</th>\n",
       "      <td>1338.000000</td>\n",
       "      <td>1338.000000</td>\n",
       "      <td>1338.000000</td>\n",
       "      <td>1338.000000</td>\n",
       "    </tr>\n",
       "    <tr>\n",
       "      <th>mean</th>\n",
       "      <td>39.207025</td>\n",
       "      <td>30.663397</td>\n",
       "      <td>1.094918</td>\n",
       "      <td>13270.422265</td>\n",
       "    </tr>\n",
       "    <tr>\n",
       "      <th>std</th>\n",
       "      <td>14.049960</td>\n",
       "      <td>6.098187</td>\n",
       "      <td>1.205493</td>\n",
       "      <td>12110.011237</td>\n",
       "    </tr>\n",
       "    <tr>\n",
       "      <th>min</th>\n",
       "      <td>18.000000</td>\n",
       "      <td>15.960000</td>\n",
       "      <td>0.000000</td>\n",
       "      <td>1121.873900</td>\n",
       "    </tr>\n",
       "    <tr>\n",
       "      <th>25%</th>\n",
       "      <td>27.000000</td>\n",
       "      <td>26.296250</td>\n",
       "      <td>0.000000</td>\n",
       "      <td>4740.287150</td>\n",
       "    </tr>\n",
       "    <tr>\n",
       "      <th>50%</th>\n",
       "      <td>39.000000</td>\n",
       "      <td>30.400000</td>\n",
       "      <td>1.000000</td>\n",
       "      <td>9382.033000</td>\n",
       "    </tr>\n",
       "    <tr>\n",
       "      <th>75%</th>\n",
       "      <td>51.000000</td>\n",
       "      <td>34.693750</td>\n",
       "      <td>2.000000</td>\n",
       "      <td>16639.912515</td>\n",
       "    </tr>\n",
       "    <tr>\n",
       "      <th>max</th>\n",
       "      <td>64.000000</td>\n",
       "      <td>53.130000</td>\n",
       "      <td>5.000000</td>\n",
       "      <td>63770.428010</td>\n",
       "    </tr>\n",
       "  </tbody>\n",
       "</table>\n",
       "</div>"
      ],
      "text/plain": [
       "               age          bmi     children       charges\n",
       "count  1338.000000  1338.000000  1338.000000   1338.000000\n",
       "mean     39.207025    30.663397     1.094918  13270.422265\n",
       "std      14.049960     6.098187     1.205493  12110.011237\n",
       "min      18.000000    15.960000     0.000000   1121.873900\n",
       "25%      27.000000    26.296250     0.000000   4740.287150\n",
       "50%      39.000000    30.400000     1.000000   9382.033000\n",
       "75%      51.000000    34.693750     2.000000  16639.912515\n",
       "max      64.000000    53.130000     5.000000  63770.428010"
      ]
     },
     "execution_count": 11,
     "metadata": {},
     "output_type": "execute_result"
    }
   ],
   "source": [
    "df.describe()"
   ]
  },
  {
   "cell_type": "code",
   "execution_count": 12,
   "id": "0b7345e4",
   "metadata": {},
   "outputs": [],
   "source": [
    "import torch.nn as nn\n",
    "import torch.optim as optim\n",
    "from sklearn.preprocessing import LabelEncoder, StandardScaler\n",
    "from sklearn.model_selection import train_test_split"
   ]
  },
  {
   "cell_type": "code",
   "execution_count": 13,
   "id": "7e7d7b9a",
   "metadata": {},
   "outputs": [],
   "source": [
    "#split dataset before encoding\n",
    "train_df,test_df=train_test_split(df,test_size=0.2,random_state=42)\n"
   ]
  },
  {
   "cell_type": "code",
   "execution_count": 14,
   "id": "01e4e30c",
   "metadata": {},
   "outputs": [],
   "source": [
    "#Encode catagorical variable\n",
    "label_encoder={}\n",
    "for col in ['sex','smoker','region']:\n",
    "    le=LabelEncoder()\n",
    "    train_df[col]=le.fit_transform(train_df[col])\n",
    "    test_df[col]=le.transform(test_df[col])\n",
    "    label_encoder[col]=le"
   ]
  },
  {
   "cell_type": "code",
   "execution_count": 15,
   "id": "01c356c2",
   "metadata": {},
   "outputs": [],
   "source": [
    "# features and target\n",
    "x_train=train_df.drop(columns=['charges'])\n",
    "y_train=train_df['charges']\n",
    "x_test=test_df.drop(columns=['charges'])\n",
    "y_test=test_df['charges']\n"
   ]
  },
  {
   "cell_type": "code",
   "execution_count": 16,
   "id": "8e34e771",
   "metadata": {},
   "outputs": [
    {
     "name": "stdout",
     "output_type": "stream",
     "text": [
      "      age  sex    bmi  children  smoker  region\n",
      "560    46    0  19.95         2       0       1\n",
      "1285   47    0  24.32         0       0       0\n",
      "1142   52    0  24.86         0       0       2\n",
      "969    39    0  34.32         5       0       2\n",
      "486    54    0  21.47         3       0       1\n",
      "560      9193.83850\n",
      "1285     8534.67180\n",
      "1142    27117.99378\n",
      "969      8596.82780\n",
      "486     12475.35130\n",
      "Name: charges, dtype: float64\n"
     ]
    }
   ],
   "source": [
    "print(x_train.head())\n",
    "print(y_train.head())"
   ]
  },
  {
   "cell_type": "code",
   "execution_count": 17,
   "id": "d08848e6",
   "metadata": {},
   "outputs": [],
   "source": [
    "# Normalize features\n",
    "scaler=StandardScaler()\n",
    "x_train=scaler.fit_transform(x_train)\n",
    "x_test=scaler.transform(x_test)"
   ]
  },
  {
   "cell_type": "code",
   "execution_count": 18,
   "id": "9257d4a8",
   "metadata": {},
   "outputs": [
    {
     "name": "stdout",
     "output_type": "stream",
     "text": [
      "[[ 0.47222651 -1.0246016  -1.75652513  0.73433626 -0.50874702 -0.45611589]\n",
      " [ 0.54331294 -1.0246016  -1.03308239 -0.91119211 -0.50874702 -1.35325561]\n",
      " [ 0.8987451  -1.0246016  -0.94368672 -0.91119211 -0.50874702  0.44102382]\n",
      " ...\n",
      " [ 1.3252637   0.97598911 -0.89153925 -0.91119211 -0.50874702 -1.35325561]\n",
      " [-0.16755139 -1.0246016   2.82086429  0.73433626  1.96561348  1.33816354]\n",
      " [ 1.1120044   0.97598911 -0.10932713 -0.91119211 -0.50874702  1.33816354]]\n"
     ]
    }
   ],
   "source": [
    "print(x_train)"
   ]
  },
  {
   "cell_type": "code",
   "execution_count": 19,
   "id": "dee4f8ec",
   "metadata": {},
   "outputs": [],
   "source": [
    "# convert to tensors\n",
    "x_train_tensor=torch.tensor(x_train,dtype=torch.float32)\n",
    "y_train_tensor=torch.tensor(y_train.values,dtype=torch.float32).view(-1,1)\n",
    "x_test_tensor=torch.tensor(x_test,dtype=torch.float32)\n",
    "y_test_tensor=torch.tensor(y_test.values,dtype=torch.float32).view(-1,1)"
   ]
  },
  {
   "cell_type": "code",
   "execution_count": 20,
   "id": "fe57d8e7",
   "metadata": {},
   "outputs": [
    {
     "name": "stdout",
     "output_type": "stream",
     "text": [
      "tensor([[ 9193.8389],\n",
      "        [ 8534.6719],\n",
      "        [27117.9941],\n",
      "        ...,\n",
      "        [11931.1250],\n",
      "        [46113.5117],\n",
      "        [10214.6357]])\n",
      "torch.Size([1070, 1])\n"
     ]
    }
   ],
   "source": [
    "print(y_train_tensor)\n",
    "print(y_train_tensor.shape)"
   ]
  },
  {
   "cell_type": "code",
   "execution_count": 21,
   "id": "797d75e5",
   "metadata": {},
   "outputs": [
    {
     "name": "stdout",
     "output_type": "stream",
     "text": [
      "tensor([[ 0.4011, -1.0246, -0.8915,  0.7343, -0.5087, -1.3533],\n",
      "        [-0.2386, -1.0246, -0.0895, -0.9112, -0.5087, -0.4561],\n",
      "        [ 1.7518, -1.0246, -0.6085, -0.9112,  1.9656, -0.4561],\n",
      "        ...,\n",
      "        [-0.0965,  0.9760, -0.4197, -0.0884, -0.5087, -1.3533],\n",
      "        [ 1.0409, -1.0246,  2.7894, -0.9112,  1.9656,  0.4410],\n",
      "        [ 0.8277, -1.0246,  0.6025, -0.0884, -0.5087,  1.3382]])\n",
      "torch.Size([268, 6])\n"
     ]
    }
   ],
   "source": [
    "print(x_test_tensor)\n",
    "print(x_test_tensor.shape)"
   ]
  },
  {
   "cell_type": "code",
   "execution_count": 22,
   "id": "829a6274",
   "metadata": {},
   "outputs": [],
   "source": [
    "# define neural network\n",
    "class SimpleNNRegressionModel(nn.Module):\n",
    "    def __init__(self,input_dim):\n",
    "        super(SimpleNNRegressionModel,self).__init__()\n",
    "        self.network=nn.Sequential(\n",
    "            nn.Linear(input_dim,64),\n",
    "            nn.ReLU(),\n",
    "            nn.Linear(64,128),\n",
    "            nn.ReLU(),\n",
    "            nn.Linear(128,1)\n",
    "        )\n",
    "    def forward(self,x):\n",
    "        return self.network(x)\n"
   ]
  },
  {
   "cell_type": "code",
   "execution_count": 23,
   "id": "dc6722cd",
   "metadata": {},
   "outputs": [],
   "source": [
    "input_dim=x_train_tensor.shape[1]\n",
    "model=SimpleNNRegressionModel(input_dim)"
   ]
  },
  {
   "cell_type": "code",
   "execution_count": 24,
   "id": "7e1d665e",
   "metadata": {},
   "outputs": [],
   "source": [
    "#Loss and optimiser\n",
    "criterion=nn.MSELoss()\n",
    "optimiser=optim.Adam(model.parameters(),lr=0.01)"
   ]
  },
  {
   "cell_type": "code",
   "execution_count": 25,
   "id": "59d0045c",
   "metadata": {},
   "outputs": [
    {
     "name": "stdout",
     "output_type": "stream",
     "text": [
      " epoch [100]/30000, loss : 44063500.0000\n",
      " epoch [200]/30000, loss : 31593850.0000\n",
      " epoch [300]/30000, loss : 28935824.0000\n",
      " epoch [400]/30000, loss : 27037826.0000\n",
      " epoch [500]/30000, loss : 25939570.0000\n",
      " epoch [600]/30000, loss : 25214984.0000\n",
      " epoch [700]/30000, loss : 24701598.0000\n",
      " epoch [800]/30000, loss : 24279648.0000\n",
      " epoch [900]/30000, loss : 23951180.0000\n",
      " epoch [1000]/30000, loss : 23681548.0000\n",
      " epoch [1100]/30000, loss : 23461456.0000\n",
      " epoch [1200]/30000, loss : 23273698.0000\n",
      " epoch [1300]/30000, loss : 23094226.0000\n",
      " epoch [1400]/30000, loss : 22938560.0000\n",
      " epoch [1500]/30000, loss : 22786496.0000\n",
      " epoch [1600]/30000, loss : 22631346.0000\n",
      " epoch [1700]/30000, loss : 22423624.0000\n",
      " epoch [1800]/30000, loss : 22096144.0000\n",
      " epoch [1900]/30000, loss : 21522218.0000\n",
      " epoch [2000]/30000, loss : 20884796.0000\n",
      " epoch [2100]/30000, loss : 20203626.0000\n",
      " epoch [2200]/30000, loss : 19618782.0000\n",
      " epoch [2300]/30000, loss : 19043604.0000\n",
      " epoch [2400]/30000, loss : 18449376.0000\n",
      " epoch [2500]/30000, loss : 17884420.0000\n",
      " epoch [2600]/30000, loss : 17359744.0000\n",
      " epoch [2700]/30000, loss : 16798340.0000\n",
      " epoch [2800]/30000, loss : 16264642.0000\n",
      " epoch [2900]/30000, loss : 15873918.0000\n",
      " epoch [3000]/30000, loss : 15468700.0000\n",
      " epoch [3100]/30000, loss : 15082262.0000\n",
      " epoch [3200]/30000, loss : 14717335.0000\n",
      " epoch [3300]/30000, loss : 14355583.0000\n",
      " epoch [3400]/30000, loss : 14048668.0000\n",
      " epoch [3500]/30000, loss : 13683367.0000\n",
      " epoch [3600]/30000, loss : 13317119.0000\n",
      " epoch [3700]/30000, loss : 13018972.0000\n",
      " epoch [3800]/30000, loss : 12740043.0000\n",
      " epoch [3900]/30000, loss : 12490845.0000\n",
      " epoch [4000]/30000, loss : 12295224.0000\n",
      " epoch [4100]/30000, loss : 12099146.0000\n",
      " epoch [4200]/30000, loss : 11894355.0000\n",
      " epoch [4300]/30000, loss : 11634145.0000\n",
      " epoch [4400]/30000, loss : 11457814.0000\n",
      " epoch [4500]/30000, loss : 11288409.0000\n",
      " epoch [4600]/30000, loss : 11147488.0000\n",
      " epoch [4700]/30000, loss : 11037133.0000\n",
      " epoch [4800]/30000, loss : 10928371.0000\n",
      " epoch [4900]/30000, loss : 10704846.0000\n",
      " epoch [5000]/30000, loss : 10515510.0000\n",
      " epoch [5100]/30000, loss : 10347175.0000\n",
      " epoch [5200]/30000, loss : 10167637.0000\n",
      " epoch [5300]/30000, loss : 10034729.0000\n",
      " epoch [5400]/30000, loss : 9901431.0000\n",
      " epoch [5500]/30000, loss : 9734460.0000\n",
      " epoch [5600]/30000, loss : 9600700.0000\n",
      " epoch [5700]/30000, loss : 9479090.0000\n",
      " epoch [5800]/30000, loss : 9386720.0000\n",
      " epoch [5900]/30000, loss : 9284517.0000\n",
      " epoch [6000]/30000, loss : 9174075.0000\n",
      " epoch [6100]/30000, loss : 9036922.0000\n",
      " epoch [6200]/30000, loss : 8901676.0000\n",
      " epoch [6300]/30000, loss : 8784221.0000\n",
      " epoch [6400]/30000, loss : 8666536.0000\n",
      " epoch [6500]/30000, loss : 8536681.0000\n",
      " epoch [6600]/30000, loss : 8414397.0000\n",
      " epoch [6700]/30000, loss : 8297441.5000\n",
      " epoch [6800]/30000, loss : 8174421.5000\n",
      " epoch [6900]/30000, loss : 8065690.0000\n",
      " epoch [7000]/30000, loss : 7978589.5000\n",
      " epoch [7100]/30000, loss : 7905160.5000\n",
      " epoch [7200]/30000, loss : 7827458.0000\n",
      " epoch [7300]/30000, loss : 7770468.0000\n",
      " epoch [7400]/30000, loss : 7707969.0000\n",
      " epoch [7500]/30000, loss : 7655479.0000\n",
      " epoch [7600]/30000, loss : 7593624.0000\n",
      " epoch [7700]/30000, loss : 7527391.0000\n",
      " epoch [7800]/30000, loss : 7446154.5000\n",
      " epoch [7900]/30000, loss : 7392671.0000\n",
      " epoch [8000]/30000, loss : 7330088.5000\n",
      " epoch [8100]/30000, loss : 7278140.5000\n",
      " epoch [8200]/30000, loss : 7232413.5000\n",
      " epoch [8300]/30000, loss : 7184943.5000\n",
      " epoch [8400]/30000, loss : 7134011.5000\n",
      " epoch [8500]/30000, loss : 7074917.0000\n",
      " epoch [8600]/30000, loss : 7010375.5000\n",
      " epoch [8700]/30000, loss : 6952647.5000\n",
      " epoch [8800]/30000, loss : 6900117.5000\n",
      " epoch [8900]/30000, loss : 6862918.0000\n",
      " epoch [9000]/30000, loss : 6814332.5000\n",
      " epoch [9100]/30000, loss : 6767299.0000\n",
      " epoch [9200]/30000, loss : 6728304.0000\n",
      " epoch [9300]/30000, loss : 6689180.5000\n",
      " epoch [9400]/30000, loss : 6657794.5000\n",
      " epoch [9500]/30000, loss : 6589926.5000\n",
      " epoch [9600]/30000, loss : 6532427.5000\n",
      " epoch [9700]/30000, loss : 6491423.5000\n",
      " epoch [9800]/30000, loss : 6448820.0000\n",
      " epoch [9900]/30000, loss : 6413231.5000\n",
      " epoch [10000]/30000, loss : 6371715.0000\n",
      " epoch [10100]/30000, loss : 6321463.0000\n",
      " epoch [10200]/30000, loss : 6277366.0000\n",
      " epoch [10300]/30000, loss : 6223675.5000\n",
      " epoch [10400]/30000, loss : 6167826.5000\n",
      " epoch [10500]/30000, loss : 6112076.0000\n",
      " epoch [10600]/30000, loss : 6056007.5000\n",
      " epoch [10700]/30000, loss : 6002278.5000\n",
      " epoch [10800]/30000, loss : 5959132.0000\n",
      " epoch [10900]/30000, loss : 5896341.5000\n",
      " epoch [11000]/30000, loss : 5820891.0000\n",
      " epoch [11100]/30000, loss : 5730231.0000\n",
      " epoch [11200]/30000, loss : 5655409.5000\n",
      " epoch [11300]/30000, loss : 5595839.5000\n",
      " epoch [11400]/30000, loss : 5545967.5000\n",
      " epoch [11500]/30000, loss : 5486234.5000\n",
      " epoch [11600]/30000, loss : 5430940.0000\n",
      " epoch [11700]/30000, loss : 5380513.0000\n",
      " epoch [11800]/30000, loss : 5337114.5000\n",
      " epoch [11900]/30000, loss : 5275794.5000\n",
      " epoch [12000]/30000, loss : 5244635.5000\n",
      " epoch [12100]/30000, loss : 5188206.5000\n",
      " epoch [12200]/30000, loss : 5141293.0000\n",
      " epoch [12300]/30000, loss : 5105637.0000\n",
      " epoch [12400]/30000, loss : 5068154.0000\n",
      " epoch [12500]/30000, loss : 5033166.5000\n",
      " epoch [12600]/30000, loss : 5010583.5000\n",
      " epoch [12700]/30000, loss : 4952332.0000\n",
      " epoch [12800]/30000, loss : 4925401.5000\n",
      " epoch [12900]/30000, loss : 4892851.5000\n",
      " epoch [13000]/30000, loss : 4866363.0000\n",
      " epoch [13100]/30000, loss : 4827883.5000\n",
      " epoch [13200]/30000, loss : 4794725.0000\n",
      " epoch [13300]/30000, loss : 4765718.0000\n",
      " epoch [13400]/30000, loss : 4740724.5000\n",
      " epoch [13500]/30000, loss : 4707102.5000\n",
      " epoch [13600]/30000, loss : 4694166.5000\n",
      " epoch [13700]/30000, loss : 4653670.0000\n",
      " epoch [13800]/30000, loss : 4629676.5000\n",
      " epoch [13900]/30000, loss : 4607214.5000\n",
      " epoch [14000]/30000, loss : 4591509.0000\n",
      " epoch [14100]/30000, loss : 4557769.5000\n",
      " epoch [14200]/30000, loss : 4541056.0000\n",
      " epoch [14300]/30000, loss : 4517344.0000\n",
      " epoch [14400]/30000, loss : 4524389.0000\n",
      " epoch [14500]/30000, loss : 4469135.5000\n",
      " epoch [14600]/30000, loss : 4446458.0000\n",
      " epoch [14700]/30000, loss : 4424175.5000\n",
      " epoch [14800]/30000, loss : 4398473.5000\n",
      " epoch [14900]/30000, loss : 4390873.5000\n",
      " epoch [15000]/30000, loss : 4360219.0000\n",
      " epoch [15100]/30000, loss : 4351423.0000\n",
      " epoch [15200]/30000, loss : 4330704.5000\n",
      " epoch [15300]/30000, loss : 4290880.5000\n",
      " epoch [15400]/30000, loss : 4293452.5000\n",
      " epoch [15500]/30000, loss : 4269134.0000\n",
      " epoch [15600]/30000, loss : 4222998.5000\n",
      " epoch [15700]/30000, loss : 4204108.0000\n",
      " epoch [15800]/30000, loss : 4183077.7500\n",
      " epoch [15900]/30000, loss : 4186742.2500\n",
      " epoch [16000]/30000, loss : 4151769.7500\n",
      " epoch [16100]/30000, loss : 4121661.2500\n",
      " epoch [16200]/30000, loss : 4102958.5000\n",
      " epoch [16300]/30000, loss : 4111040.7500\n",
      " epoch [16400]/30000, loss : 4084875.2500\n",
      " epoch [16500]/30000, loss : 4048631.5000\n",
      " epoch [16600]/30000, loss : 4031094.7500\n",
      " epoch [16700]/30000, loss : 4012389.2500\n",
      " epoch [16800]/30000, loss : 3995216.5000\n",
      " epoch [16900]/30000, loss : 3966561.7500\n",
      " epoch [17000]/30000, loss : 3975319.7500\n",
      " epoch [17100]/30000, loss : 3943857.7500\n",
      " epoch [17200]/30000, loss : 3936125.2500\n",
      " epoch [17300]/30000, loss : 3892377.7500\n",
      " epoch [17400]/30000, loss : 3890912.2500\n",
      " epoch [17500]/30000, loss : 3865012.2500\n",
      " epoch [17600]/30000, loss : 3844332.5000\n",
      " epoch [17700]/30000, loss : 3836987.0000\n",
      " epoch [17800]/30000, loss : 3831631.5000\n",
      " epoch [17900]/30000, loss : 3816846.0000\n",
      " epoch [18000]/30000, loss : 3779758.2500\n",
      " epoch [18100]/30000, loss : 3781100.5000\n",
      " epoch [18200]/30000, loss : 3751606.5000\n",
      " epoch [18300]/30000, loss : 3754081.7500\n",
      " epoch [18400]/30000, loss : 3746166.7500\n",
      " epoch [18500]/30000, loss : 3726614.0000\n",
      " epoch [18600]/30000, loss : 3712621.2500\n",
      " epoch [18700]/30000, loss : 3682070.2500\n",
      " epoch [18800]/30000, loss : 3670440.5000\n",
      " epoch [18900]/30000, loss : 3650001.2500\n",
      " epoch [19000]/30000, loss : 3634006.0000\n",
      " epoch [19100]/30000, loss : 3636248.0000\n",
      " epoch [19200]/30000, loss : 3640361.7500\n",
      " epoch [19300]/30000, loss : 3618350.0000\n",
      " epoch [19400]/30000, loss : 3596457.2500\n",
      " epoch [19500]/30000, loss : 3585389.7500\n",
      " epoch [19600]/30000, loss : 3580462.0000\n",
      " epoch [19700]/30000, loss : 3569395.2500\n",
      " epoch [19800]/30000, loss : 3544237.7500\n",
      " epoch [19900]/30000, loss : 3521030.2500\n",
      " epoch [20000]/30000, loss : 3511950.0000\n",
      " epoch [20100]/30000, loss : 3501988.5000\n",
      " epoch [20200]/30000, loss : 3507526.7500\n",
      " epoch [20300]/30000, loss : 3499268.7500\n",
      " epoch [20400]/30000, loss : 3483857.2500\n",
      " epoch [20500]/30000, loss : 3441683.7500\n",
      " epoch [20600]/30000, loss : 3430046.0000\n",
      " epoch [20700]/30000, loss : 3444045.5000\n",
      " epoch [20800]/30000, loss : 3408519.5000\n",
      " epoch [20900]/30000, loss : 3390254.5000\n",
      " epoch [21000]/30000, loss : 3378074.5000\n",
      " epoch [21100]/30000, loss : 3407069.5000\n",
      " epoch [21200]/30000, loss : 3374482.0000\n",
      " epoch [21300]/30000, loss : 3348860.0000\n",
      " epoch [21400]/30000, loss : 3337350.0000\n",
      " epoch [21500]/30000, loss : 3328431.7500\n",
      " epoch [21600]/30000, loss : 3316497.2500\n",
      " epoch [21700]/30000, loss : 3299103.0000\n",
      " epoch [21800]/30000, loss : 3305235.5000\n",
      " epoch [21900]/30000, loss : 3302795.0000\n",
      " epoch [22000]/30000, loss : 3304564.7500\n",
      " epoch [22100]/30000, loss : 3281994.7500\n",
      " epoch [22200]/30000, loss : 3267029.0000\n",
      " epoch [22300]/30000, loss : 3235086.2500\n",
      " epoch [22400]/30000, loss : 3263276.0000\n",
      " epoch [22500]/30000, loss : 3218508.2500\n",
      " epoch [22600]/30000, loss : 3210940.2500\n",
      " epoch [22700]/30000, loss : 3199385.2500\n",
      " epoch [22800]/30000, loss : 3205870.7500\n",
      " epoch [22900]/30000, loss : 3208264.7500\n",
      " epoch [23000]/30000, loss : 3205930.7500\n",
      " epoch [23100]/30000, loss : 3159198.7500\n",
      " epoch [23200]/30000, loss : 3149382.2500\n",
      " epoch [23300]/30000, loss : 3183824.2500\n",
      " epoch [23400]/30000, loss : 3163535.2500\n",
      " epoch [23500]/30000, loss : 3127348.0000\n",
      " epoch [23600]/30000, loss : 3117347.5000\n",
      " epoch [23700]/30000, loss : 3108843.7500\n",
      " epoch [23800]/30000, loss : 3121486.0000\n",
      " epoch [23900]/30000, loss : 3101455.7500\n",
      " epoch [24000]/30000, loss : 3116014.2500\n",
      " epoch [24100]/30000, loss : 3104614.5000\n",
      " epoch [24200]/30000, loss : 3085230.7500\n",
      " epoch [24300]/30000, loss : 3080381.2500\n",
      " epoch [24400]/30000, loss : 3075409.7500\n",
      " epoch [24500]/30000, loss : 3039908.0000\n",
      " epoch [24600]/30000, loss : 3073263.2500\n",
      " epoch [24700]/30000, loss : 3018947.5000\n",
      " epoch [24800]/30000, loss : 3019119.7500\n",
      " epoch [24900]/30000, loss : 3039957.0000\n",
      " epoch [25000]/30000, loss : 2995425.5000\n",
      " epoch [25100]/30000, loss : 2989177.0000\n",
      " epoch [25200]/30000, loss : 2986983.5000\n",
      " epoch [25300]/30000, loss : 2973556.0000\n",
      " epoch [25400]/30000, loss : 2964437.0000\n",
      " epoch [25500]/30000, loss : 2957080.7500\n",
      " epoch [25600]/30000, loss : 2949104.7500\n",
      " epoch [25700]/30000, loss : 2968100.0000\n",
      " epoch [25800]/30000, loss : 2976859.5000\n",
      " epoch [25900]/30000, loss : 2927557.5000\n",
      " epoch [26000]/30000, loss : 2917596.7500\n",
      " epoch [26100]/30000, loss : 2922137.2500\n",
      " epoch [26200]/30000, loss : 2935322.0000\n",
      " epoch [26300]/30000, loss : 2902676.5000\n",
      " epoch [26400]/30000, loss : 2897367.2500\n",
      " epoch [26500]/30000, loss : 2892852.2500\n",
      " epoch [26600]/30000, loss : 2877773.5000\n",
      " epoch [26700]/30000, loss : 2888149.5000\n",
      " epoch [26800]/30000, loss : 2890135.7500\n",
      " epoch [26900]/30000, loss : 2880630.2500\n",
      " epoch [27000]/30000, loss : 2868455.0000\n",
      " epoch [27100]/30000, loss : 2841391.2500\n",
      " epoch [27200]/30000, loss : 2860244.0000\n",
      " epoch [27300]/30000, loss : 2821985.0000\n",
      " epoch [27400]/30000, loss : 2841833.7500\n",
      " epoch [27500]/30000, loss : 2808261.5000\n",
      " epoch [27600]/30000, loss : 2820448.0000\n",
      " epoch [27700]/30000, loss : 2797192.2500\n",
      " epoch [27800]/30000, loss : 2828118.2500\n",
      " epoch [27900]/30000, loss : 2787716.0000\n",
      " epoch [28000]/30000, loss : 2820890.2500\n",
      " epoch [28100]/30000, loss : 2767648.5000\n",
      " epoch [28200]/30000, loss : 2761122.0000\n",
      " epoch [28300]/30000, loss : 2811928.0000\n",
      " epoch [28400]/30000, loss : 2780681.2500\n",
      " epoch [28500]/30000, loss : 2769502.5000\n",
      " epoch [28600]/30000, loss : 2733893.5000\n",
      " epoch [28700]/30000, loss : 2726367.2500\n",
      " epoch [28800]/30000, loss : 2716009.5000\n",
      " epoch [28900]/30000, loss : 2720581.5000\n",
      " epoch [29000]/30000, loss : 2743270.0000\n",
      " epoch [29100]/30000, loss : 2736280.0000\n",
      " epoch [29200]/30000, loss : 2704182.7500\n",
      " epoch [29300]/30000, loss : 2704166.2500\n",
      " epoch [29400]/30000, loss : 2672168.7500\n",
      " epoch [29500]/30000, loss : 2678178.0000\n",
      " epoch [29600]/30000, loss : 2647241.7500\n",
      " epoch [29700]/30000, loss : 2674645.2500\n",
      " epoch [29800]/30000, loss : 2636070.5000\n",
      " epoch [29900]/30000, loss : 2645730.0000\n",
      " epoch [30000]/30000, loss : 2621121.7500\n"
     ]
    }
   ],
   "source": [
    "#training loop\n",
    "epochs=30000\n",
    "for epoch in range(epochs):\n",
    "    model.train()\n",
    "    optimiser.zero_grad()\n",
    "    predictions=model(x_train_tensor)\n",
    "    loss=criterion(predictions,y_train_tensor)\n",
    "    loss.backward()\n",
    "    optimiser.step()\n",
    "    if (epoch+1)%100 ==0:\n",
    "        print(f' epoch [{epoch+1}]/30000, loss : {loss.item():.4f}')"
   ]
  },
  {
   "cell_type": "code",
   "execution_count": null,
   "id": "7f53a6b7",
   "metadata": {},
   "outputs": [],
   "source": [
    "# Model Evaluation\n",
    "\n",
    "model.eval()\n",
    "\n",
    "y_pred=model(x_test_tensor).detach().numpy()"
   ]
  },
  {
   "cell_type": "code",
   "execution_count": 27,
   "id": "d44ba8c5",
   "metadata": {},
   "outputs": [
    {
     "name": "stdout",
     "output_type": "stream",
     "text": [
      "MSE is : 52465052.0\n",
      "RMSE is : 7243.276330501274\n",
      "MAE is : 4654.05615234375\n",
      "R2 is : 0.6620581150054932\n"
     ]
    }
   ],
   "source": [
    "from sklearn.metrics import mean_squared_error,mean_absolute_error,r2_score\n",
    "\n",
    "y_test_numpy=y_test_tensor.numpy()\n",
    "\n",
    "#calculate metrics\n",
    "\n",
    "mse=mean_squared_error(y_test_numpy,y_pred)\n",
    "rmse=mse**0.5\n",
    "mae=mean_absolute_error(y_test_numpy,y_pred)\n",
    "r2=r2_score(y_test_numpy,y_pred)\n",
    "\n",
    "print(f\"MSE is : {mse}\")\n",
    "print(f\"RMSE is : {rmse}\")\n",
    "print(f\"MAE is : {mae}\")\n",
    "print(f\"R2 is : {r2}\")\n",
    "\n",
    "\n"
   ]
  },
  {
   "cell_type": "code",
   "execution_count": 33,
   "id": "eaa01fee",
   "metadata": {},
   "outputs": [],
   "source": [
    "def predict_charges(age,sex,bmi,children,smoker,region):\n",
    "    input_data=pd.DataFrame([[age,sex,bmi,children,smoker,region]], columns=['age','sex','bmi','children','smoker','region'])\n",
    "    for col in ['sex','smoker','region']:\n",
    "        input_data[col]=label_encoder[col].transform(input_data[col])\n",
    "    input_data=scaler.transform(input_data)\n",
    "    input_tensor=torch.tensor(input_data,dtype=torch.float32)\n",
    "    predicted_charge=model(input_tensor).item()\n",
    "    return predicted_charge\n"
   ]
  },
  {
   "cell_type": "code",
   "execution_count": 34,
   "id": "c4380fa9",
   "metadata": {},
   "outputs": [],
   "source": [
    "predicted=predict_charges(19,'female',27.9,0,'yes','southwest')"
   ]
  },
  {
   "cell_type": "code",
   "execution_count": 35,
   "id": "29c43e0e",
   "metadata": {},
   "outputs": [
    {
     "name": "stdout",
     "output_type": "stream",
     "text": [
      "predicted insurance charge 16624.23828125\n"
     ]
    }
   ],
   "source": [
    "print(f'predicted insurance charge {predicted}')"
   ]
  }
 ],
 "metadata": {
  "kernelspec": {
   "display_name": "pytorch",
   "language": "python",
   "name": "python3"
  },
  "language_info": {
   "codemirror_mode": {
    "name": "ipython",
    "version": 3
   },
   "file_extension": ".py",
   "mimetype": "text/x-python",
   "name": "python",
   "nbconvert_exporter": "python",
   "pygments_lexer": "ipython3",
   "version": "3.13.5"
  }
 },
 "nbformat": 4,
 "nbformat_minor": 5
}
