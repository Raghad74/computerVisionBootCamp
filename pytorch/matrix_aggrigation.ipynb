{
 "cells": [
  {
   "cell_type": "code",
   "execution_count": 1,
   "id": "d3bd1bf0",
   "metadata": {},
   "outputs": [],
   "source": [
    "import torch"
   ]
  },
  {
   "cell_type": "code",
   "execution_count": 2,
   "id": "cc0c7fa6",
   "metadata": {},
   "outputs": [
    {
     "name": "stdout",
     "output_type": "stream",
     "text": [
      "tensor([[1., 2., 3.],\n",
      "        [4., 5., 6.],\n",
      "        [7., 8., 9.]])\n"
     ]
    }
   ],
   "source": [
    "matrix=torch.tensor([[1.,2.,3.],[4.,5.,6.],[7.,8.,9.]])\n",
    "print(matrix)"
   ]
  },
  {
   "cell_type": "code",
   "execution_count": 4,
   "id": "e6e4b108",
   "metadata": {},
   "outputs": [
    {
     "name": "stdout",
     "output_type": "stream",
     "text": [
      "tensor(45.)\n",
      "tensor(1.)\n",
      "tensor(9.)\n",
      "tensor(5.)\n",
      "tensor(5.)\n"
     ]
    }
   ],
   "source": [
    "print(matrix.sum())\n",
    "print(matrix.min())\n",
    "print(matrix.max())\n",
    "print(matrix.mean())\n",
    "print(matrix.median())\n"
   ]
  },
  {
   "cell_type": "code",
   "execution_count": 5,
   "id": "3917aff8",
   "metadata": {},
   "outputs": [
    {
     "name": "stdout",
     "output_type": "stream",
     "text": [
      "tensor([12., 15., 18.])\n",
      "tensor([ 6., 15., 24.])\n"
     ]
    }
   ],
   "source": [
    "print(matrix.sum(dim=0))\n",
    "print(matrix.sum(dim=1))"
   ]
  },
  {
   "cell_type": "code",
   "execution_count": 6,
   "id": "2ebc19ad",
   "metadata": {},
   "outputs": [
    {
     "name": "stdout",
     "output_type": "stream",
     "text": [
      "tensor([[ 1.,  3.,  6.],\n",
      "        [ 4.,  9., 15.],\n",
      "        [ 7., 15., 24.]])\n"
     ]
    }
   ],
   "source": [
    "cumulative_sum=matrix.cumsum(dim=1)\n",
    "print(cumulative_sum)"
   ]
  },
  {
   "cell_type": "code",
   "execution_count": 7,
   "id": "bf483b62",
   "metadata": {},
   "outputs": [
    {
     "name": "stdout",
     "output_type": "stream",
     "text": [
      "tensor([[  1.,   2.,   3.],\n",
      "        [  4.,  10.,  18.],\n",
      "        [ 28.,  80., 162.]])\n"
     ]
    }
   ],
   "source": [
    "cumulative_prod=matrix.cumprod(dim=0)\n",
    "print(cumulative_prod)"
   ]
  },
  {
   "cell_type": "code",
   "execution_count": 9,
   "id": "76d2a18e",
   "metadata": {},
   "outputs": [
    {
     "name": "stdout",
     "output_type": "stream",
     "text": [
      "tensor(30.)\n"
     ]
    }
   ],
   "source": [
    "#advance aggregation\n",
    "masked_matrix_sum=matrix[matrix>5].sum()\n",
    "print(masked_matrix_sum)"
   ]
  },
  {
   "cell_type": "code",
   "execution_count": 14,
   "id": "e7966867",
   "metadata": {},
   "outputs": [
    {
     "name": "stdout",
     "output_type": "stream",
     "text": [
      "tensor([[0, 1],\n",
      "        [0, 2],\n",
      "        [1, 0],\n",
      "        [1, 1],\n",
      "        [1, 2],\n",
      "        [2, 0],\n",
      "        [2, 1],\n",
      "        [2, 2]])\n",
      "torch.Size([8, 2])\n",
      "8\n"
     ]
    }
   ],
   "source": [
    "matrix=torch.tensor([[0.,2.,3.],[4.,5.,6.],[7.,8.,9.]])\n",
    "\n",
    "non_zero=matrix.nonzero()\n",
    "print(non_zero)\n",
    "print(non_zero.shape)\n",
    "print(non_zero.size(0))"
   ]
  },
  {
   "cell_type": "markdown",
   "id": "d3be2755",
   "metadata": {},
   "source": [
    "## normalised matrix"
   ]
  },
  {
   "cell_type": "code",
   "execution_count": 15,
   "id": "10803587",
   "metadata": {},
   "outputs": [
    {
     "name": "stdout",
     "output_type": "stream",
     "text": [
      "tensor([[0.0000, 0.2222, 0.3333],\n",
      "        [0.4444, 0.5556, 0.6667],\n",
      "        [0.7778, 0.8889, 1.0000]])\n"
     ]
    }
   ],
   "source": [
    "max_v=matrix.max()\n",
    "min_v=matrix.min()\n",
    "normalised=(matrix-min_v)/(max_v-min_v)\n",
    "print(normalised)\n"
   ]
  }
 ],
 "metadata": {
  "kernelspec": {
   "display_name": "pytorch",
   "language": "python",
   "name": "python3"
  },
  "language_info": {
   "codemirror_mode": {
    "name": "ipython",
    "version": 3
   },
   "file_extension": ".py",
   "mimetype": "text/x-python",
   "name": "python",
   "nbconvert_exporter": "python",
   "pygments_lexer": "ipython3",
   "version": "3.13.5"
  }
 },
 "nbformat": 4,
 "nbformat_minor": 5
}
