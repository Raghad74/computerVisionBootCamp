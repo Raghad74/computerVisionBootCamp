{
 "cells": [
  {
   "cell_type": "code",
   "execution_count": 1,
   "id": "e6674cd6",
   "metadata": {},
   "outputs": [],
   "source": [
    "import torch"
   ]
  },
  {
   "cell_type": "code",
   "execution_count": null,
   "id": "a57b1b05",
   "metadata": {},
   "outputs": [],
   "source": [
    "\"\"\"\n",
    "break down of a simple neural network\n",
    "\n",
    "X--> input\n",
    "Wx--> wights\n",
    "bx--> bias\n",
    "A--> Activation function\n",
    "Y--> Output\n",
    "\n",
    "Z=W1.X+b1\n",
    "Z`=A(Z)\n",
    "Y=W2.Z`+b2\n",
    "\n",
    "-- loss function\n",
    "-- backprobagation\n",
    "-- optimizer\"\n",
    "\"\"\""
   ]
  },
  {
   "cell_type": "markdown",
   "id": "129cf43e",
   "metadata": {},
   "source": [
    "## components of pytorch\n",
    "- Base class for defining customer modles: torch.nn.Module\n",
    "- fully connected (dense) layers: torch.nn.Linear\n",
    "- Activation function: torch.nn.Relu\n",
    "- Optimiser: torch.optim\n",
    "- Loss function: torch.nn.CrossEntropyLoss\n",
    "- Load data in batch: torch.utils.data.DataLoader\n"
   ]
  },
  {
   "cell_type": "markdown",
   "id": "7b4dd198",
   "metadata": {},
   "source": [
    "## different ways to create neural network\n",
    "\n",
    "1. Function: flexible, harder to interpret\n",
    "2. Sequential: nn.Sequential"
   ]
  },
  {
   "cell_type": "markdown",
   "id": "e74e9879",
   "metadata": {},
   "source": [
    "# Building a neural network"
   ]
  },
  {
   "cell_type": "code",
   "execution_count": 2,
   "id": "562d8acd",
   "metadata": {},
   "outputs": [],
   "source": [
    "import torch.nn as nn\n",
    "import torch.optim as optim"
   ]
  },
  {
   "cell_type": "code",
   "execution_count": 3,
   "id": "d2a67487",
   "metadata": {},
   "outputs": [],
   "source": [
    "## functional api\n",
    "class SimpleNN(nn.Module):\n",
    "    def __init__(self,input_size,hidden_size,output_size):\n",
    "        super(SimpleNN,self).__init__()\n",
    "        self.fc1=nn.Linear(input_size,hidden_size)\n",
    "        self.relu=nn.ReLU()\n",
    "        self.fc2=nn.Linear(hidden_size,output_size)\n",
    "    \n",
    "    def forward(self,x):\n",
    "        x=self.fc1(x)\n",
    "        x=self.relu(x)\n",
    "        x=self.fc2(x)\n",
    "        return x\n",
    "    \n",
    "        "
   ]
  },
  {
   "cell_type": "code",
   "execution_count": 4,
   "id": "0a8a755d",
   "metadata": {},
   "outputs": [],
   "source": [
    "## Sequential api\n",
    "class SimpleNNSequential(nn.Module):\n",
    "    def __init__(self,input_size,hidden_size,output_size):\n",
    "        super(SimpleNNSequential,self).__init__()\n",
    "        self.network=nn.Sequential(\n",
    "            nn.Linear(input_size,hidden_size),\n",
    "            nn.Relu(),\n",
    "            nn.Linear(hidden_size,output_size)\n",
    "\n",
    "        )\n",
    "    \n",
    "    def forward(self,x):\n",
    "        return self.network(x)"
   ]
  },
  {
   "cell_type": "markdown",
   "id": "62aa9a60",
   "metadata": {},
   "source": [
    "## Training the neural network\n"
   ]
  },
  {
   "cell_type": "code",
   "execution_count": 11,
   "id": "a0d64be8",
   "metadata": {},
   "outputs": [
    {
     "name": "stdout",
     "output_type": "stream",
     "text": [
      "SimpleNN(\n",
      "  (fc1): Linear(in_features=4, out_features=8, bias=True)\n",
      "  (relu): ReLU()\n",
      "  (fc2): Linear(in_features=8, out_features=3, bias=True)\n",
      ")\n"
     ]
    }
   ],
   "source": [
    "model_func=SimpleNN(input_size=4,hidden_size=8,output_size=3)\n",
    "print(model_func)\n"
   ]
  },
  {
   "cell_type": "code",
   "execution_count": 12,
   "id": "232d4d56",
   "metadata": {},
   "outputs": [],
   "source": [
    "X=torch.randn(10,4) #10 samples, 4 feature\n",
    "Y=torch.randint(0,3,(10,))\n",
    "\n",
    "criterion=nn.CrossEntropyLoss()\n",
    "optimizer=optim.Adam(model_func.parameters(),lr=0.01)"
   ]
  },
  {
   "cell_type": "code",
   "execution_count": 13,
   "id": "039eadf4",
   "metadata": {},
   "outputs": [
    {
     "name": "stdout",
     "output_type": "stream",
     "text": [
      "tensor([[ 0.3319,  0.1039, -0.3167,  0.4891],\n",
      "        [-0.2074,  0.3565,  0.1747, -0.3210],\n",
      "        [ 0.8604, -0.4238,  0.4914,  0.0421],\n",
      "        [-1.3426, -0.8216, -0.5825,  2.0164],\n",
      "        [ 0.5506,  0.3397,  1.5490, -1.1376],\n",
      "        [-2.6382, -0.1161,  0.2593, -0.5560],\n",
      "        [-0.5026, -0.8398,  1.3674, -2.5675],\n",
      "        [ 0.3474,  0.1766,  0.5736, -0.8381],\n",
      "        [-0.6952, -0.5337, -0.8673,  0.1593],\n",
      "        [ 0.3213,  0.2275, -1.9854, -1.6594]])\n",
      "tensor([0, 2, 0, 1, 1, 0, 1, 2, 2, 1])\n"
     ]
    }
   ],
   "source": [
    "print(X)\n",
    "print(Y)"
   ]
  },
  {
   "cell_type": "code",
   "execution_count": 14,
   "id": "827a5e80",
   "metadata": {},
   "outputs": [
    {
     "name": "stdout",
     "output_type": "stream",
     "text": [
      "Epoch [10]/50,0.9432\n",
      "Epoch [20]/50,0.7989\n",
      "Epoch [30]/50,0.6386\n",
      "Epoch [40]/50,0.4837\n",
      "Epoch [50]/50,0.3667\n",
      "Epoch [60]/50,0.2872\n",
      "Epoch [70]/50,0.2338\n",
      "Epoch [80]/50,0.1949\n",
      "Epoch [90]/50,0.1650\n",
      "Epoch [100]/50,0.1408\n",
      "Epoch [110]/50,0.1205\n",
      "Epoch [120]/50,0.0947\n"
     ]
    }
   ],
   "source": [
    "# training loop\n",
    "epoch=120\n",
    "for e in range(epoch):\n",
    "    optimizer.zero_grad()\n",
    "    outputs=model_func(X)\n",
    "    loss=criterion(outputs,Y)\n",
    "    loss.backward()\n",
    "    optimizer.step()\n",
    "    if (e+1) % 10==0:\n",
    "        print(f'Epoch [{e+1}]/50,{loss.item():.4f}')"
   ]
  }
 ],
 "metadata": {
  "kernelspec": {
   "display_name": "pytorch",
   "language": "python",
   "name": "python3"
  },
  "language_info": {
   "codemirror_mode": {
    "name": "ipython",
    "version": 3
   },
   "file_extension": ".py",
   "mimetype": "text/x-python",
   "name": "python",
   "nbconvert_exporter": "python",
   "pygments_lexer": "ipython3",
   "version": "3.13.5"
  }
 },
 "nbformat": 4,
 "nbformat_minor": 5
}
