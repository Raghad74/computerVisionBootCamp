{
 "cells": [
  {
   "cell_type": "code",
   "execution_count": 6,
   "id": "7ada546f",
   "metadata": {},
   "outputs": [],
   "source": [
    "import torch\n",
    "import torch.nn as nn\n",
    "import torch.optim as optim\n",
    "from torch.utils.data import DataLoader,Dataset\n",
    "import torchvision.transforms as transforms\n",
    "from PIL import Image\n",
    "import os"
   ]
  },
  {
   "cell_type": "code",
   "execution_count": 7,
   "id": "d95814bb",
   "metadata": {},
   "outputs": [],
   "source": [
    "class ImageDataSet(Dataset):\n",
    "    def __init__(self,image_dir,transform=None):\n",
    "        self.image_dir=image_dir\n",
    "        self.transform=transform\n",
    "        self.class_names={}\n",
    "        self.image_paths=[]\n",
    "        self.labels=[]\n",
    "        for label,class_name in enumerate(os.listdir(self.image_dir)):\n",
    "            self.class_names[label]=class_name\n",
    "            for img_path in os.listdir(os.path.join(self.image_dir,class_name)):\n",
    "                self.image_paths.append(os.path.join(self.image_dir,class_name,img_path))\n",
    "                self.labels.append(label)\n",
    "    \n",
    "    def __len__(self):\n",
    "        return len(self.image_paths)\n",
    "    \n",
    "    def __getitem__(self, index):\n",
    "        img_path=self.image_paths[index]\n",
    "        label=self.labels[index]\n",
    "        img=Image.open(img_path).convert('RGB')\n",
    "        if self.transform:\n",
    "            img=self.transform(img)\n",
    "        return img,label"
   ]
  },
  {
   "cell_type": "code",
   "execution_count": 8,
   "id": "dd2904f1",
   "metadata": {},
   "outputs": [],
   "source": [
    "transform=transforms.Compose([transforms.Resize((227,227)),transforms.ToTensor(),transforms.Normalize(mean=[0.485,0.456,0.406],std=[0.229,0.224,0.225])])"
   ]
  },
  {
   "cell_type": "code",
   "execution_count": 9,
   "id": "a43266db",
   "metadata": {},
   "outputs": [],
   "source": [
    "train_dir='flowersDataset/train'\n",
    "test_dir='flowersDataset/test'"
   ]
  },
  {
   "cell_type": "code",
   "execution_count": 10,
   "id": "836ca9ad",
   "metadata": {},
   "outputs": [],
   "source": [
    "## turns out we could use torchvision.dataset.ImageFolder"
   ]
  },
  {
   "cell_type": "code",
   "execution_count": 11,
   "id": "ad651c8b",
   "metadata": {},
   "outputs": [],
   "source": [
    "train_dataset=ImageDataSet(train_dir,transform)\n",
    "test_dataset=ImageDataSet(test_dir,transform)"
   ]
  },
  {
   "cell_type": "code",
   "execution_count": 12,
   "id": "cccd3e17",
   "metadata": {},
   "outputs": [
    {
     "data": {
      "text/plain": [
       "182"
      ]
     },
     "execution_count": 12,
     "metadata": {},
     "output_type": "execute_result"
    }
   ],
   "source": [
    "len(test_dataset)\n"
   ]
  },
  {
   "cell_type": "code",
   "execution_count": 13,
   "id": "8e3f893e",
   "metadata": {},
   "outputs": [],
   "source": [
    "train_loader=DataLoader(train_dataset,32,True)\n",
    "test_loader=DataLoader(test_dataset,32,False)"
   ]
  },
  {
   "cell_type": "code",
   "execution_count": 14,
   "id": "7e14db34",
   "metadata": {},
   "outputs": [
    {
     "data": {
      "text/plain": [
       "6"
      ]
     },
     "execution_count": 14,
     "metadata": {},
     "output_type": "execute_result"
    }
   ],
   "source": [
    "len(test_loader)"
   ]
  },
  {
   "cell_type": "markdown",
   "id": "85f756eb",
   "metadata": {},
   "source": [
    "## AlexNet Architecture"
   ]
  },
  {
   "cell_type": "code",
   "execution_count": 15,
   "id": "338a00a1",
   "metadata": {},
   "outputs": [],
   "source": [
    "class AlexNet(nn.Module):\n",
    "    def __init__(self,num_classes):\n",
    "        super(AlexNet,self).__init__()\n",
    "        self.convLayers=nn.Sequential(\n",
    "            nn.Conv2d(3,96,kernel_size=11,stride=4),\n",
    "            nn.BatchNorm2d(96),\n",
    "            nn.MaxPool2d(3,2),\n",
    "            nn.ReLU(),\n",
    "            nn.Conv2d(96,256,kernel_size=5,stride=1,padding=2),\n",
    "            nn.BatchNorm2d(256),\n",
    "            nn.MaxPool2d(3,2),\n",
    "            nn.ReLU(),\n",
    "            nn.Conv2d(256,384,kernel_size=3,stride=1,padding=1),\n",
    "            nn.ReLU(),\n",
    "            nn.Conv2d(384,384,kernel_size=3,stride=1,padding=1),\n",
    "            nn.ReLU(),\n",
    "            nn.Conv2d(384,256,kernel_size=3,stride=1,padding=1),\n",
    "            nn.MaxPool2d(3,2),\n",
    "            nn.ReLU()\n",
    "        )\n",
    "        self.fcLayers=nn.Sequential(\n",
    "            nn.Linear(256*6*6,4096),\n",
    "            nn.ReLU(),\n",
    "            nn.Dropout(0.5),\n",
    "            nn.Linear(4096,4096),\n",
    "            nn.ReLU(),\n",
    "            nn.Dropout(0.5),\n",
    "            nn.Linear(4096,num_classes)\n",
    "        )\n",
    "\n",
    "    def forward(self,x):\n",
    "        x=self.convLayers(x)\n",
    "        x=x.view(-1,256*6*6)\n",
    "        x=self.fcLayers(x)\n",
    "        return x\n",
    "        \n",
    "\n"
   ]
  },
  {
   "cell_type": "code",
   "execution_count": 16,
   "id": "236b7bee",
   "metadata": {},
   "outputs": [],
   "source": [
    "device=torch.device('cuda' if torch.cuda.is_available() else 'cpu')\n",
    "model=AlexNet(len(train_dataset.class_names)).to(device)\n",
    "criterion=nn.CrossEntropyLoss()\n",
    "optimizer=optim.Adam(model.parameters(),lr=0.01)"
   ]
  },
  {
   "cell_type": "code",
   "execution_count": 17,
   "id": "6c610b60",
   "metadata": {},
   "outputs": [
    {
     "name": "stdout",
     "output_type": "stream",
     "text": [
      "epoch 1/3, loss: 8926.41\n",
      "Accuracy on test set:57.69\n",
      "epoch 2/3, loss: 1.00\n",
      "Accuracy on test set:57.69\n",
      "epoch 3/3, loss: 0.72\n",
      "Accuracy on test set:42.31\n"
     ]
    }
   ],
   "source": [
    "#training loop\n",
    "epochs=3\n",
    "train_losses,test_accuracies=[],[]\n",
    "for epoch in range(epochs):\n",
    "    model.train()\n",
    "    running_loss=0.0\n",
    "    for images,labels in train_loader:\n",
    "        images,labels=images.to(device),labels.to(device)\n",
    "        optimizer.zero_grad()\n",
    "        outputs=model(images)\n",
    "        loss=criterion(outputs,labels)\n",
    "        running_loss+=loss.item()\n",
    "        loss.backward()\n",
    "        optimizer.step()\n",
    "    avg_loss=running_loss/len(train_loader)\n",
    "    train_losses.append(avg_loss)\n",
    "    print(f'epoch {epoch+1}/{epochs}, loss: {avg_loss:.2f}')\n",
    "\n",
    "    model.eval()\n",
    "    correct,total=0,0\n",
    "    with torch.no_grad():\n",
    "        for images,labels in test_loader:\n",
    "            images,labels=images.to(device),labels.to(device)\n",
    "            outputs=model(images)\n",
    "            _,predictions=torch.max(outputs,1)\n",
    "            total+=labels.size(0)\n",
    "            correct+=(predictions==labels).sum().item()\n",
    "        accuracy=100*correct/total\n",
    "        test_accuracies.append(accuracy)\n",
    "        print(f'Accuracy on test set:{accuracy:.2f}')\n"
   ]
  },
  {
   "cell_type": "code",
   "execution_count": 28,
   "id": "076ac5db",
   "metadata": {},
   "outputs": [],
   "source": [
    "def predict(image_path):\n",
    "    img=Image.open(image_path)\n",
    "    image=transform(img).unsqueeze(0)\n",
    "    image=image.to(device)\n",
    "    model.eval()\n",
    "    with torch.no_grad():\n",
    "        prediction=model(image)\n",
    "        _,label=torch.max(prediction,1)\n",
    "    print(f'the flower is a {train_dataset.class_names[label.item()]}')\n"
   ]
  },
  {
   "cell_type": "code",
   "execution_count": 22,
   "id": "c616623d",
   "metadata": {},
   "outputs": [
    {
     "data": {
      "text/plain": [
       "'c:\\\\Users\\\\ragha\\\\OneDrive\\\\Desktop\\\\CV COURSE\\\\image classification'"
      ]
     },
     "execution_count": 22,
     "metadata": {},
     "output_type": "execute_result"
    }
   ],
   "source": [
    "import os\n",
    "os.getcwd()"
   ]
  },
  {
   "cell_type": "code",
   "execution_count": 29,
   "id": "7eab7be0",
   "metadata": {},
   "outputs": [
    {
     "name": "stdout",
     "output_type": "stream",
     "text": [
      "the flower is a daisy\n"
     ]
    }
   ],
   "source": [
    "predict('flowersDataset/test/daisy/476857510_d2b30175de_n_jpg.rf.40ff83ae9c6f996b11149eaf1eafcc2e.jpg')"
   ]
  }
 ],
 "metadata": {
  "kernelspec": {
   "display_name": "pytorch",
   "language": "python",
   "name": "python3"
  },
  "language_info": {
   "codemirror_mode": {
    "name": "ipython",
    "version": 3
   },
   "file_extension": ".py",
   "mimetype": "text/x-python",
   "name": "python",
   "nbconvert_exporter": "python",
   "pygments_lexer": "ipython3",
   "version": "3.13.5"
  }
 },
 "nbformat": 4,
 "nbformat_minor": 5
}
