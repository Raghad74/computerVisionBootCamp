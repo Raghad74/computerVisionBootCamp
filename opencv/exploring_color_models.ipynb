{
 "cells": [
  {
   "cell_type": "code",
   "execution_count": 3,
   "id": "95f6e2f5",
   "metadata": {},
   "outputs": [
    {
     "name": "stdout",
     "output_type": "stream",
     "text": [
      "Requirement already satisfied: opencv-python in c:\\users\\ragha\\onedrive\\desktop\\cv course\\python\\venv\\lib\\site-packages (4.12.0.88)\n",
      "Requirement already satisfied: numpy<2.3.0,>=2 in c:\\users\\ragha\\onedrive\\desktop\\cv course\\python\\venv\\lib\\site-packages (from opencv-python) (2.2.6)\n",
      "Note: you may need to restart the kernel to use updated packages.\n"
     ]
    }
   ],
   "source": [
    "pip install opencv-python"
   ]
  },
  {
   "cell_type": "code",
   "execution_count": 1,
   "id": "9458e3d7",
   "metadata": {},
   "outputs": [],
   "source": [
    "import cv2"
   ]
  },
  {
   "cell_type": "code",
   "execution_count": 2,
   "id": "88370fa1",
   "metadata": {},
   "outputs": [],
   "source": [
    "bgr_img=cv2.imread(\"./fox.png\")"
   ]
  },
  {
   "cell_type": "code",
   "execution_count": null,
   "id": "4b339c17",
   "metadata": {},
   "outputs": [
    {
     "data": {
      "text/plain": [
       "True"
      ]
     },
     "execution_count": 3,
     "metadata": {},
     "output_type": "execute_result"
    }
   ],
   "source": [
    "gray=cv2.cvtColor(bgr_img,cv2.COLOR_BGR2GRAY)\n",
    "cv2.imwrite(\"./grayimg.jpg\",gray)\n"
   ]
  },
  {
   "cell_type": "code",
   "execution_count": 4,
   "id": "e49aba1f",
   "metadata": {},
   "outputs": [
    {
     "data": {
      "text/plain": [
       "True"
      ]
     },
     "execution_count": 4,
     "metadata": {},
     "output_type": "execute_result"
    }
   ],
   "source": [
    "hsv=cv2.cvtColor(bgr_img,cv2.COLOR_BGR2HSV)\n",
    "cv2.imwrite(\"./hsvimg.jpg\",hsv)\n"
   ]
  },
  {
   "cell_type": "code",
   "execution_count": 5,
   "id": "f0bd9694",
   "metadata": {},
   "outputs": [
    {
     "data": {
      "text/plain": [
       "True"
      ]
     },
     "execution_count": 5,
     "metadata": {},
     "output_type": "execute_result"
    }
   ],
   "source": [
    "lab=cv2.cvtColor(bgr_img,cv2.COLOR_BGR2LAB)\n",
    "cv2.imwrite(\"./labimg.jpg\",lab)\n"
   ]
  },
  {
   "cell_type": "code",
   "execution_count": 6,
   "id": "5ea64f61",
   "metadata": {},
   "outputs": [
    {
     "data": {
      "text/plain": [
       "True"
      ]
     },
     "execution_count": 6,
     "metadata": {},
     "output_type": "execute_result"
    }
   ],
   "source": [
    "rgb=cv2.cvtColor(bgr_img,cv2.COLOR_BGR2RGB)\n",
    "cv2.imwrite(\"./rgbimg.jpg\",rgb)"
   ]
  }
 ],
 "metadata": {
  "kernelspec": {
   "display_name": "KNCVU",
   "language": "python",
   "name": "python3"
  },
  "language_info": {
   "codemirror_mode": {
    "name": "ipython",
    "version": 3
   },
   "file_extension": ".py",
   "mimetype": "text/x-python",
   "name": "python",
   "nbconvert_exporter": "python",
   "pygments_lexer": "ipython3",
   "version": "3.13.5"
  }
 },
 "nbformat": 4,
 "nbformat_minor": 5
}
