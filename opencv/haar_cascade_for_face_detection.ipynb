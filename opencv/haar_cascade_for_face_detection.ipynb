{
 "cells": [
  {
   "cell_type": "code",
   "execution_count": 1,
   "id": "3aa88497",
   "metadata": {},
   "outputs": [],
   "source": [
    "import cv2"
   ]
  },
  {
   "cell_type": "code",
   "execution_count": 2,
   "id": "7ef4c86c",
   "metadata": {},
   "outputs": [],
   "source": [
    "#face detection\n",
    "cam=cv2.VideoCapture(0)\n",
    "face_cascade=cv2.CascadeClassifier(cv2.data.haarcascades+'haarcascade_frontalface_default.xml')\n",
    "while True:\n",
    "    ret,frame=cam.read()\n",
    "    if not ret:\n",
    "        print(\"failed to grab frame\")\n",
    "        break\n",
    "    gray=cv2.cvtColor(frame,cv2.COLOR_BGR2GRAY)\n",
    "    faces=face_cascade.detectMultiScale(gray,scaleFactor=1.3,minNeighbors=5)\n",
    "    for (x,y,w,h) in faces:\n",
    "        cv2.rectangle(frame,(x,y),(x+w,y+h),(0,255,0),3)\n",
    "        cv2.putText(frame,\"Face deteceted\",(x,y-10),cv2.FONT_HERSHEY_SIMPLEX,0.9,(255,0,0),3)\n",
    "\n",
    "    cv2.imshow('camera',frame)\n",
    "    if cv2.waitKey(1)& 0xFF==ord('q'):\n",
    "        break\n",
    "cam.release()\n",
    "cv2.destroyAllWindows()\n"
   ]
  },
  {
   "cell_type": "code",
   "execution_count": 3,
   "id": "2ccc3fbd",
   "metadata": {},
   "outputs": [],
   "source": [
    "# face+eye+mouth detection\n",
    "\n",
    "cam=cv2.VideoCapture(0)\n",
    "face_cascade=cv2.CascadeClassifier(cv2.data.haarcascades+'haarcascade_frontalface_default.xml')\n",
    "eye_cascade=cv2.CascadeClassifier(cv2.data.haarcascades+'haarcascade_eye.xml')\n",
    "mouth_cascade=cv2.CascadeClassifier(cv2.data.haarcascades+'haarcascade_smile.xml')\n",
    "\n",
    "while True:\n",
    "    ret,frame=cam.read()\n",
    "    if not ret:\n",
    "        print(\"failed to grab frame\")\n",
    "        break\n",
    "    gray=cv2.cvtColor(frame,cv2.COLOR_BGR2GRAY)\n",
    "    faces=face_cascade.detectMultiScale(gray,scaleFactor=1.3,minNeighbors=5)\n",
    "    for (x,y,w,h) in faces:\n",
    "        cv2.rectangle(frame,(x,y),(x+w,y+h),(0,255,0),3)\n",
    "        cv2.putText(frame,\"Face deteceted\",(x,y-10),cv2.FONT_HERSHEY_SIMPLEX,0.9,(255,0,0),3)\n",
    "\n",
    "        roi_gray=gray[y:y+h,x:x+w]\n",
    "        roi_color=frame[y:y+h,x:x+w]\n",
    "        eyes=eye_cascade.detectMultiScale(roi_gray,scaleFactor=1.3,minNeighbors=5)\n",
    "        mouths=mouth_cascade.detectMultiScale(roi_gray,scaleFactor=1.3,minNeighbors=5)\n",
    "\n",
    "        for (ex,ey,ew,eh) in eyes:\n",
    "            cv2.rectangle(frame,(x+ex,y+ey),(x+ex+ew,y+ey+eh),(0,0,255,4))\n",
    "            cv2.putText(frame,\"eye deteceted\",(x+ex,y+ey-10),cv2.FONT_HERSHEY_SIMPLEX,0.9,(255,0,0),3)\n",
    "\n",
    "        for (mx,my,mw,mh) in mouths:\n",
    "            cv2.rectangle(frame,(x+mx,y+my),(x+mx+mw,y+my+mh),(0,0,255,4))\n",
    "            cv2.putText(frame,\"mouth deteceted\",(x+mx,y+my-10),cv2.FONT_HERSHEY_SIMPLEX,0.9,(255,0,0),3)\n",
    "        \n",
    "\n",
    "    cv2.imshow('camera',frame)\n",
    "    if cv2.waitKey(1)& 0xFF==ord('q'):\n",
    "        break\n",
    "cam.release()\n",
    "cv2.destroyAllWindows()"
   ]
  }
 ],
 "metadata": {
  "kernelspec": {
   "display_name": "KNCVU",
   "language": "python",
   "name": "python3"
  },
  "language_info": {
   "codemirror_mode": {
    "name": "ipython",
    "version": 3
   },
   "file_extension": ".py",
   "mimetype": "text/x-python",
   "name": "python",
   "nbconvert_exporter": "python",
   "pygments_lexer": "ipython3",
   "version": "3.13.5"
  }
 },
 "nbformat": 4,
 "nbformat_minor": 5
}
